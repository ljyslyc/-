{
 "cells": [
  {
   "cell_type": "code",
   "execution_count": 2,
   "metadata": {},
   "outputs": [],
   "source": [
    "from PIL import Image\n",
    "import cv2 \n",
    "import numpy as np\n",
    "import matplotlib.pyplot as plt\n",
    "import os"
   ]
  },
  {
   "cell_type": "code",
   "execution_count": 2,
   "metadata": {
    "collapsed": true
   },
   "outputs": [],
   "source": [
    "# 全部转化为灰度图\n",
    "for i in range(497,611):\n",
    "    path = '2019 APMCM Problem A Attachment\\\\0' + str(i) + '.bmp'\n",
    "    outpath = 'data\\\\0' + str(i) + '.bmp'\n",
    "    img = cv2.imread(path) # 读取RGB彩⾊图⽚\n",
    "# img = img[:,:,(2,1,0)]# 调换RGB顺序\n",
    "    img_gray = cv2.cvtColor(img, cv2.COLOR_BGR2GRAY) # RGB图转灰度图\n",
    "    # plt.imshow(img_gray,cmap=\"gray\") # 显示图⽚ \n",
    "    cv2.imwrite(outpath,img_gray)"
   ]
  },
  {
   "cell_type": "code",
   "execution_count": 7,
   "metadata": {
    "collapsed": true,
    "scrolled": false
   },
   "outputs": [],
   "source": [
    "# 创建图像掩膜\n",
    "def makemask(img,width = 1792,heigh = 1231):\n",
    "    sss=np.zeros([heigh,width],dtype=np.uint8)\n",
    "    sss[200:820,500:1100]=255\n",
    "    image=cv2.add(img, np.zeros(np.shape(img), dtype=np.uint8), mask=sss)\n",
    "    return image"
   ]
  },
  {
   "cell_type": "code",
   "execution_count": 8,
   "metadata": {
    "collapsed": true
   },
   "outputs": [],
   "source": [
    "# 全部转化为掩膜图\n",
    "for i in range(497,611):\n",
    "    path = '2019 APMCM Problem A Attachment\\\\0' + str(i) + '.bmp'\n",
    "    outpath = 'data_set\\\\0' + str(i) + '.bmp'\n",
    "    img = cv2.imread(path) # 读取RGB彩⾊图⽚\n",
    "    # img = img[:,:,(2,1,0)]# 调换RGB顺序\n",
    "    img_gray = cv2.cvtColor(img, cv2.COLOR_BGR2GRAY) # RGB图转灰度图\n",
    "    # plt.imshow(img_gray,cmap=\"gray\") # 显示图⽚\n",
    "    image= makemask(img)\n",
    "    cv2.imwrite(outpath,image)"
   ]
  },
  {
   "cell_type": "code",
   "execution_count": 1,
   "metadata": {},
   "outputs": [
    {
     "ename": "NameError",
     "evalue": "name 'cv2' is not defined",
     "output_type": "error",
     "traceback": [
      "\u001b[1;31m---------------------------------------------------------------------------\u001b[0m",
      "\u001b[1;31mNameError\u001b[0m                                 Traceback (most recent call last)",
      "\u001b[1;32m<ipython-input-1-3c6236f36dfc>\u001b[0m in \u001b[0;36m<module>\u001b[1;34m\u001b[0m\n\u001b[0;32m      4\u001b[0m     \u001b[0mpath\u001b[0m \u001b[1;33m=\u001b[0m \u001b[1;34m'2019 APMCM Problem A Attachment\\\\0'\u001b[0m \u001b[1;33m+\u001b[0m \u001b[0mstr\u001b[0m\u001b[1;33m(\u001b[0m\u001b[0mi\u001b[0m\u001b[1;33m)\u001b[0m \u001b[1;33m+\u001b[0m \u001b[1;34m'.bmp'\u001b[0m\u001b[1;33m\u001b[0m\u001b[1;33m\u001b[0m\u001b[0m\n\u001b[0;32m      5\u001b[0m     \u001b[0moutpath\u001b[0m \u001b[1;33m=\u001b[0m \u001b[1;34m'data_cutted\\\\0'\u001b[0m \u001b[1;33m+\u001b[0m \u001b[0mstr\u001b[0m\u001b[1;33m(\u001b[0m\u001b[0mi\u001b[0m\u001b[1;33m)\u001b[0m \u001b[1;33m+\u001b[0m \u001b[1;34m'.bmp'\u001b[0m\u001b[1;33m\u001b[0m\u001b[1;33m\u001b[0m\u001b[0m\n\u001b[1;32m----> 6\u001b[1;33m     \u001b[0mimg\u001b[0m \u001b[1;33m=\u001b[0m \u001b[0mcv2\u001b[0m\u001b[1;33m.\u001b[0m\u001b[0mimread\u001b[0m\u001b[1;33m(\u001b[0m\u001b[0mpath\u001b[0m\u001b[1;33m)\u001b[0m \u001b[1;31m# 读取RGB彩⾊图⽚\u001b[0m\u001b[1;33m\u001b[0m\u001b[1;33m\u001b[0m\u001b[0m\n\u001b[0m\u001b[0;32m      7\u001b[0m     \u001b[0mimg\u001b[0m \u001b[1;33m=\u001b[0m \u001b[0mimg\u001b[0m\u001b[1;33m[\u001b[0m\u001b[1;36m200\u001b[0m\u001b[1;33m:\u001b[0m\u001b[1;36m820\u001b[0m\u001b[1;33m,\u001b[0m\u001b[1;36m500\u001b[0m\u001b[1;33m:\u001b[0m\u001b[1;36m1100\u001b[0m\u001b[1;33m]\u001b[0m\u001b[1;33m\u001b[0m\u001b[1;33m\u001b[0m\u001b[0m\n\u001b[0;32m      8\u001b[0m     \u001b[0mcv2\u001b[0m\u001b[1;33m.\u001b[0m\u001b[0mimwrite\u001b[0m\u001b[1;33m(\u001b[0m\u001b[0moutpath\u001b[0m\u001b[1;33m,\u001b[0m\u001b[0mimage\u001b[0m\u001b[1;33m)\u001b[0m\u001b[1;33m\u001b[0m\u001b[1;33m\u001b[0m\u001b[0m\n",
      "\u001b[1;31mNameError\u001b[0m: name 'cv2' is not defined"
     ]
    }
   ],
   "source": [
    "# 图片全部删去上角标\n",
    "# 图片裁剪\n",
    "for i in range(497,611):\n",
    "    path = '2019 APMCM Problem A Attachment\\\\0' + str(i) + '.bmp'\n",
    "    outpath = 'data_cutted\\\\0' + str(i) + '.bmp'\n",
    "    img = cv2.imread(path) # 读取RGB彩⾊图⽚\n",
    "    img = img[200:820,500:1100]\n",
    "    cv2.imwrite(outpath,image)"
   ]
  },
  {
   "cell_type": "code",
   "execution_count": 23,
   "metadata": {},
   "outputs": [
    {
     "data": {
      "text/plain": [
       "<matplotlib.image.AxesImage at 0x236a4f680f0>"
      ]
     },
     "execution_count": 23,
     "metadata": {},
     "output_type": "execute_result"
    },
    {
     "data": {
      "image/png": "[encoded data removed]",
      "text/plain": [
       "<Figure size 432x288 with 1 Axes>"
      ]
     },
     "metadata": {
      "needs_background": "light"
     },
     "output_type": "display_data"
    }
   ],
   "source": [
    "# Gamma变换曝光\n",
    "path = 'data_set\\\\0' + str(497) + '.bmp'\n",
    "img = cv2.imread(path) # 读取RGB彩⾊图⽚\n",
    "(b, g, r) = cv2.split(img)\n",
    "bH = cv2.equalizeHist(b)\n",
    "gH = cv2.equalizeHist(g)\n",
    "rH = cv2.equalizeHist(r)\n",
    "result = cv2.merge((bH, gH, rH))\n",
    "plt.imshow(result)\n",
    "cv2.imwrite('output.bmp',result)\n"
   ]
  },
  {
   "cell_type": "code",
   "execution_count": 69,
   "metadata": {
    "collapsed": true
   },
   "outputs": [],
   "source": [
    "# 生成视频\n",
    "# sss = [200:820,500:1100]\n",
    "fps = 16  \n",
    "size = (1792,1231) \n",
    "outpath = 'vedio.avi'\n",
    "videowriter = cv2.VideoWriter(outpath,cv2.VideoWriter_fourcc('M','J','P','G'),fps,size)\n",
    "\n",
    "def gamma(img):   \n",
    "    img = cv2.cvtColor(img, cv2.COLOR_BGR2GRAY) # RGB图转灰度图\n",
    "    result = cv2.equalizeHist(img)\n",
    "    result = cv2.merge((result, result, result))\n",
    "    return result\n",
    "\n",
    "# 将背景图输入视频\n",
    "path = 'data_set//0' + str(610) + '.bmp'\n",
    "img_background = cv2.imread(path)\n",
    "img_background_gamma = gamma(img)\n",
    "videowriter.write(img_background)\n",
    "\n",
    "# 将剩余帧对齐后输入视频\n",
    "for i in  reversed(range(497,610)):#视频正放 (497,611):\n",
    "    path = 'data_set//0' + str(i) + '.bmp'\n",
    "    img = cv2.imread(path)\n",
    "    img = transferimage(img,img_background)\n",
    "    img = gamma(img)\n",
    "    videowriter.write(img)\n",
    "videowriter.release()"
   ]
  },
  {
   "cell_type": "code",
   "execution_count": 68,
   "metadata": {
    "collapsed": true
   },
   "outputs": [],
   "source": [
    "def transferimage(im2,im1):\n",
    "    # Image to be aligned.  im2 = cv2.imread(\"align.jpg\")  \n",
    "    # Reference image.  im1 = cv2.imread(\"ref.jpg\") \n",
    "    # Convert images to grayscale\n",
    "    im1_gray = cv2.cvtColor(im1,cv2.COLOR_BGR2GRAY)\n",
    "    im2_gray = cv2.cvtColor(im2,cv2.COLOR_BGR2GRAY)\n",
    "\n",
    "    # Find size of image1\n",
    "    sz = im1.shape\n",
    "\n",
    "    # Define the motion model\n",
    "    warp_mode = cv2.MOTION_TRANSLATION\n",
    "\n",
    "    # Define 2x3 or 3x3 matrices and initialize the matrix to identity\n",
    "    if warp_mode == cv2.MOTION_HOMOGRAPHY :\n",
    "        warp_matrix = np.eye(3, 3, dtype=np.float32)\n",
    "    else :\n",
    "        warp_matrix = np.eye(2, 3, dtype=np.float32)\n",
    "\n",
    "    # Specify the number of iterations.\n",
    "    number_of_iterations = 5000;\n",
    "\n",
    "    # Specify the threshold of the increment\n",
    "    # in the correlation coefficient between two iterations\n",
    "    termination_eps = 1e-10;\n",
    "\n",
    "    # Define termination criteria\n",
    "    criteria = (cv2.TERM_CRITERIA_EPS | cv2.TERM_CRITERIA_COUNT, number_of_iterations,  termination_eps)\n",
    "\n",
    "    # Run the ECC algorithm. The results are stored in warp_matrix.\n",
    "    (cc, warp_matrix) = cv2.findTransformECC (im1_gray,im2_gray,warp_matrix, warp_mode, criteria,None,3)\n",
    "\n",
    "    if warp_mode == cv2.MOTION_HOMOGRAPHY :\n",
    "        # Use warpPerspective for Homography \n",
    "        im2_aligned = cv2.warpPerspective (im2, warp_matrix, (sz[1],sz[0]), flags=cv2.INTER_LINEAR + cv2.WARP_INVERSE_MAP)\n",
    "    else :\n",
    "        # Use warpAffine for Translation, Euclidean and Affine\n",
    "        im2_aligned = cv2.warpAffine(im2, warp_matrix, (sz[1],sz[0]), flags=cv2.INTER_LINEAR + cv2.WARP_INVERSE_MAP);\n",
    "    return im2_aligned"
   ]
  },
  {
   "cell_type": "code",
   "execution_count": 61,
   "metadata": {
    "collapsed": true
   },
   "outputs": [],
   "source": [
    "def transferimage2(img1_color,img2_color): # 构造仿射变换矩阵\n",
    "    # Image to be aligned.  img1_color = cv2.imread(\"align.jpg\")  \n",
    "    # Reference image.  img2_color = cv2.imread(\"ref.jpg\")    \n",
    "    # Convert to grayscale. \n",
    "    img1 = cv2.cvtColor(img1_color, cv2.COLOR_BGR2GRAY) \n",
    "    img2 = cv2.cvtColor(img2_color, cv2.COLOR_BGR2GRAY) \n",
    "    height, width = img2.shape\n",
    "#     # Convert to sss\n",
    "#     img1 = img1[200:820,500:1100]\n",
    "#     img2 = img2[200:820,500:1100]\n",
    "#     imggg = cv2.cvtColor(img1_color, cv2.COLOR_BGR2GRAY) \n",
    "#     height, width = imggg.shape \n",
    "\n",
    "    # Create ORB detector with 5000 features. \n",
    "    orb_detector = cv2.ORB_create(5000) \n",
    "\n",
    "    # Find keypoints and descriptors. \n",
    "    # The first arg is the image, second arg is the mask \n",
    "    #  (which is not reqiured in this case). \n",
    "    kp1, d1 = orb_detector.detectAndCompute(img1, None) \n",
    "    kp2, d2 = orb_detector.detectAndCompute(img2, None) \n",
    "\n",
    "    # Match features between the two images. \n",
    "    # We create a Brute Force matcher with  \n",
    "    # Hamming distance as measurement mode. \n",
    "    matcher = cv2.BFMatcher(cv2.NORM_HAMMING, crossCheck = True) \n",
    "\n",
    "    # Match the two sets of descriptors. \n",
    "    matches = matcher.match(d1, d2) \n",
    "\n",
    "    # Sort matches on the basis of their Hamming distance. \n",
    "    matches.sort(key = lambda x: x.distance) \n",
    "\n",
    "    # Take the top 90 % matches forward. \n",
    "    matches = matches[:int(len(matches)*90)] \n",
    "    no_of_matches = len(matches) \n",
    "\n",
    "    # Define empty matrices of shape no_of_matches * 2. \n",
    "    p1 = np.zeros((no_of_matches, 2)) \n",
    "    p2 = np.zeros((no_of_matches, 2)) \n",
    "\n",
    "    for i in range(len(matches)): \n",
    "      p1[i, :] = kp1[matches[i].queryIdx].pt \n",
    "      p2[i, :] = kp2[matches[i].trainIdx].pt \n",
    "\n",
    "    # Find the homography matrix. \n",
    "    homography, mask = cv2.findHomography(p1, p2, cv2.RANSAC) \n",
    "\n",
    "    # Use this matrix to transform the \n",
    "    # colored image wrt the reference image. \n",
    "    transformed_img = cv2.warpPerspective(img1_color, \n",
    "                        homography, (width, height)) \n",
    "    return transformed_img"
   ]
  },
  {
   "cell_type": "code",
   "execution_count": 70,
   "metadata": {
    "collapsed": true
   },
   "outputs": [],
   "source": [
    "# 全部转化为灰色图\n",
    "for i in range(497,611):\n",
    "    path = '2019 APMCM Problem A Attachment\\\\0' + str(i) + '.bmp'\n",
    "    outpath = 'data_color\\\\0' + str(i) + '.bmp'\n",
    "    img = cv2.imread(path) # 读取RGB彩⾊图⽚\n",
    "# img = img[:,:,(2,1,0)]# 调换RGB顺序\n",
    "    img_gray = cv2.cvtColor(img, cv2.COLOR_BGR2GRAY) # RGB图转灰度图\n",
    "    img = cv2.merge((img_gray,img_gray,img_gray))\n",
    "    # plt.imshow(img_gray,cmap=\"gray\") # 显示图⽚ \n",
    "    cv2.imwrite(outpath,img_gray)"
   ]
  },
  {
   "cell_type": "code",
   "execution_count": 71,
   "metadata": {
    "collapsed": true
   },
   "outputs": [],
   "source": [
    "# 生成视频\n",
    "# sss = [200:820,500:1100]\n",
    "fps = 16  \n",
    "size = (1792,1231) \n",
    "outpath = 'vedio_gray.avi'\n",
    "videowriter = cv2.VideoWriter(outpath,cv2.VideoWriter_fourcc('M','J','P','G'),fps,size)\n",
    "\n",
    "def gamma(img):   \n",
    "    img = cv2.cvtColor(img, cv2.COLOR_BGR2GRAY) # RGB图转灰度图\n",
    "    result = cv2.equalizeHist(img)\n",
    "    result = cv2.merge((result, result, result))\n",
    "    return result\n",
    "\n",
    "# 将背景图输入视频\n",
    "path = 'data_color//0' + str(610) + '.bmp'\n",
    "img_background = cv2.imread(path)\n",
    "img_background_gamma = gamma(img)\n",
    "videowriter.write(img_background)\n",
    "\n",
    "# 将剩余帧对齐后输入视频\n",
    "for i in  reversed(range(497,610)):#视频正放 (497,611):\n",
    "    path = 'data_color//0' + str(i) + '.bmp'\n",
    "    img = cv2.imread(path)\n",
    "    img = transferimage(img,img_background)\n",
    "    img = gamma(img)\n",
    "    videowriter.write(img)\n",
    "videowriter.release()"
   ]
  },
  {
   "cell_type": "code",
   "execution_count": 107,
   "metadata": {},
   "outputs": [
    {
     "name": "stdout",
     "output_type": "stream",
     "text": [
      "(1231, 1792, 3)\n",
      "[[[1063.5  704.5  508.7]]]\n",
      "1\n"
     ]
    }
   ],
   "source": [
    "import  cv2\n",
    "import matplotlib.pyplot as plt\n",
    "#载入并显示图片\n",
    "img = cv2.imread('2019 APMCM Problem A Attachment\\\\0497.bmp')\n",
    "#灰度化\n",
    "gray=cv2.cvtColor(img,cv2.COLOR_BGR2GRAY)\n",
    "#输出图像大小，方便根据图像大小调节minRadius和maxRadius\n",
    "print(img.shape)\n",
    "#霍夫变换圆检测\n",
    "circles= cv2.HoughCircles(gray,cv2.HOUGH_GRADIENT,1,400,param1=50,param2=45,minRadius=450,maxRadius=550)\n",
    "#输出返回值，方便查看类型\n",
    "print(circles)\n",
    "#输出检测到圆的个数\n",
    "print(len(circles[0]))"
   ]
  },
  {
   "cell_type": "code",
   "execution_count": 109,
   "metadata": {},
   "outputs": [
    {
     "name": "stdout",
     "output_type": "stream",
     "text": [
      "-------------我是条分割线-----------------\n",
      "x： 1063 y: 624 r: 508\n"
     ]
    },
    {
     "data": {
      "image/png": "[encoded data removed]",
      "text/plain": [
       "<Figure size 432x288 with 1 Axes>"
      ]
     },
     "metadata": {
      "needs_background": "light"
     },
     "output_type": "display_data"
    }
   ],
   "source": [
    "print('-------------我是条分割线-----------------')\n",
    "#根据检测到圆的信息，画出每一个圆\n",
    "for circle in circles[0]:\n",
    "    #圆的基本信息\n",
    "    \n",
    "    #坐标行列\n",
    "    x=int(circle[0])\n",
    "    y=int(circle[1])-80\n",
    "    #半径\n",
    "    r=int(circle[2])\n",
    "    print('x：',x,'y:',y,'r:',r)\n",
    "    #在原图用指定颜色标记出圆的位置\n",
    "    img_cil=cv2.circle(img,(x,y),r,(0,0,0),-1)\n",
    "#显示新图像\n",
    "'''\n",
    "cv2.imshow('res',img)\n",
    "#按任意键退出\n",
    "cv2.waitKey(0)\n",
    "cv2.destroyAllWindows()\n",
    "'''\n",
    "img_cil = img[:,:,(2,1,0)]# 调换RGB顺序\n",
    "plt.imshow(img_cil)#,cmap=\"gray\")\n",
    "plt.savefig(\"ganguo.jpg\")"
   ]
  },
  {
   "cell_type": "code",
   "execution_count": null,
   "metadata": {},
   "outputs": [],
   "source": [
    "import scipy.io as scio\n",
    "import pandas as pd\n",
    "data = pd.DataFrame()\n",
    "\n",
    "for i in range(497,611):\n",
    "    if i not in [555,571,572,573,574]:\n",
    "        print(i)\n",
    "        path = 'data_mat/0'+str(i)+'.mat'\n",
    "        x,y,area,length,radius = getallfigure(path)\n",
    "        data_1= pd.DataFrame({'x':[x],'y':[y],'area':[area],'length':[length],'radius':[radius]})\n",
    "        data = data.append(data_1)\n",
    "\n",
    "def getXY(cnt): # 获得质心\n",
    "    m = cv2.moments(cnt)  # 求得图像的矩\n",
    "    # 利用矩求质心\n",
    "    x = m['m10']/m['m00']\n",
    "    y = m['m01']/m['m00']\n",
    "    return x,y\n",
    "def getallfigure(path):\n",
    "    img_one = scio.loadmat(path)\n",
    "    img_one = img_one['image']\n",
    "    img = cv2.merge((img_one,img_one,img_one))\n",
    "\n",
    "    thresh = img\n",
    "    # 1.先找到轮廓\n",
    "    # _ ,thresh = cv2.threshold(img, 0, 255, cv2.THRESH_BINARY + cv2.THRESH_OTSU)\n",
    "    contours, hierarchy = cv2.findContours(img_one, 3, 2)\n",
    "    cnt = contours[0]\n",
    "    ## 质心坐标\n",
    "    x,y = getXY(cnt)\n",
    "    ## 轮廓面积\n",
    "    area = cv2.contourArea(cnt, False)\n",
    "    ## 周长\n",
    "    length = cv2.arcLength(cnt, True)\n",
    "    ## 最小外接圆半径\n",
    "    (x,y),radius = cv2.minEnclosingCircle(cnt)\n",
    "    return x,y,area,length,radius"
   ]
  },
  {
   "cell_type": "code",
   "execution_count": 104,
   "metadata": {},
   "outputs": [
    {
     "name": "stdout",
     "output_type": "stream",
     "text": [
      "图像的矩 {'m00': 9406.0, 'm10': 3407293.333333333, 'm01': 3880887.1666666665, 'm20': 1243215570.0, 'm11': 1408898343.75, 'm02': 1608952461.5, 'm30': 456885139005.4, 'm21': 515215483130.7167, 'm12': 585361337591.55, 'm03': 670167132395.65, 'mu20': 8934487.778250456, 'mu11': 3059414.3004763126, 'mu02': 7710148.040715933, 'mu30': 61306893.518066406, 'mu21': 51971020.04053354, 'mu12': -1141582.559624195, 'mu03': -44157077.103759766, 'nu20': 0.10098566048284531, 'nu11': 0.03458026710567198, 'nu02': 0.08714706557746077, 'nu30': 0.0071449118409254156, 'nu21': 0.006056877704350721, 'nu12': -0.000133043876138484, 'nu03': -0.005146214478577945}\n",
      "\n",
      "x= 362.24679282727334 y= 412.59697710681127\n"
     ]
    }
   ],
   "source": [
    "img_one = scio.loadmat('data_mat/0'+str(532)+'.mat')\n",
    "img_one = img_one['image']\n",
    "img = cv2.merge((img_one,img_one,img_one))\n",
    "thresh = img\n",
    "# 1.先找到轮廓\n",
    "# _ ,thresh = cv2.threshold(img, 0, 255, cv2.THRESH_BINARY + cv2.THRESH_OTSU)\n",
    "contours, hierarchy = cv2.findContours(img_one, 3, 2)\n",
    "cnt = contours[0]\n",
    "# 多边形的矩\n",
    "m = cv2.moments(cnt)  # 求得图像的矩\n",
    "print('图像的矩',m)\n",
    "# 利用矩求质心\n",
    "x = m['m10']/m['m00']\n",
    "y = m['m01']/m['m00']\n",
    "print('\\nx=',x, 'y=',y)\n",
    "img_h = img\n",
    "# cv2.circle(img_h, (int(x),int(y)), 5, 255, 5)\n",
    "# plt.imshow(img_h)\n",
    "# plt.savefig(\"zhixin.jpg\")"
   ]
  },
  {
   "cell_type": "code",
   "execution_count": 62,
   "metadata": {},
   "outputs": [
    {
     "data": {
      "text/plain": [
       "7032.5"
      ]
     },
     "execution_count": 62,
     "metadata": {},
     "output_type": "execute_result"
    }
   ],
   "source": [
    "## 轮廓面积\n",
    "area = cv2.contourArea(cnt, False)\n",
    "## 周长\n",
    "length = cv2.arcLength(cnt, True)    "
   ]
  },
  {
   "cell_type": "code",
   "execution_count": 63,
   "metadata": {},
   "outputs": [
    {
     "name": "stdout",
     "output_type": "stream",
     "text": [
      "[[[446 347]]\n",
      "\n",
      " [[445 363]]\n",
      "\n",
      " [[437 385]]\n",
      "\n",
      " [[426 410]]\n",
      "\n",
      " [[419 419]]\n",
      "\n",
      " [[410 421]]\n",
      "\n",
      " [[403 421]]\n",
      "\n",
      " [[354 410]]\n",
      "\n",
      " [[351 404]]\n",
      "\n",
      " [[346 383]]\n",
      "\n",
      " [[346 368]]\n",
      "\n",
      " [[352 336]]\n",
      "\n",
      " [[353 334]]\n",
      "\n",
      " [[370 320]]\n",
      "\n",
      " [[375 318]]\n",
      "\n",
      " [[381 316]]\n",
      "\n",
      " [[390 316]]\n",
      "\n",
      " [[400 319]]\n",
      "\n",
      " [[446 341]]]\n"
     ]
    },
    {
     "data": {
      "text/plain": [
       "<matplotlib.image.AxesImage at 0x1cf62051160>"
      ]
     },
     "execution_count": 63,
     "metadata": {},
     "output_type": "execute_result"
    },
    {
     "data": {
      "image/png": "[encoded data removed]",
      "text/plain": [
       "<Figure size 432x288 with 1 Axes>"
      ]
     },
     "metadata": {
      "needs_background": "light"
     },
     "output_type": "display_data"
    }
   ],
   "source": [
    "## 计算凸包\n",
    "# 2.寻找凸包，得到凸包的角点\n",
    "hull = cv2.convexHull(cnt)\n",
    "print(hull)\n",
    "# 3.绘制凸包\n",
    "#image = cv2.cvtColor(img, cv2.COLOR_GRAY2BGR)\n",
    "img_tu = img\n",
    "img_tu = cv2.polylines(img_tu,[hull], True, (0,0,255), 2)\n",
    "plt.imshow(img_tu)"
   ]
  },
  {
   "cell_type": "code",
   "execution_count": 105,
   "metadata": {},
   "outputs": [
    {
     "name": "stdout",
     "output_type": "stream",
     "text": [
      "外接圆半径 76\n"
     ]
    },
    {
     "data": {
      "image/png": "[encoded data removed]",
      "text/plain": [
       "<Figure size 432x288 with 1 Axes>"
      ]
     },
     "metadata": {
      "needs_background": "light"
     },
     "output_type": "display_data"
    }
   ],
   "source": [
    "(x,y),radius = cv2.minEnclosingCircle(cnt)\n",
    "center = (int(x),int(y))\n",
    "radius = int(radius)\n",
    "# 计算外接圆\n",
    "img_cir = img\n",
    "img_cir = cv2.circle(img_cir,center,radius,(0,255,0),2)\n",
    "plt.imshow(img_cir)\n",
    "plt.savefig(\"waijieyuan.jpg\")\n",
    "print('外接圆半径',radius)"
   ]
  },
  {
   "cell_type": "code",
   "execution_count": 93,
   "metadata": {},
   "outputs": [
    {
     "data": {
      "text/html": [
       "<div>\n",
       "<style scoped>\n",
       "    .dataframe tbody tr th:only-of-type {\n",
       "        vertical-align: middle;\n",
       "    }\n",
       "\n",
       "    .dataframe tbody tr th {\n",
       "        vertical-align: top;\n",
       "    }\n",
       "\n",
       "    .dataframe thead th {\n",
       "        text-align: right;\n",
       "    }\n",
       "</style>\n",
       "<table border=\"1\" class=\"dataframe\">\n",
       "  <thead>\n",
       "    <tr style=\"text-align: right;\">\n",
       "      <th></th>\n",
       "      <th>x</th>\n",
       "      <th>y</th>\n",
       "      <th>area</th>\n",
       "      <th>length</th>\n",
       "      <th>radius</th>\n",
       "    </tr>\n",
       "  </thead>\n",
       "  <tbody>\n",
       "    <tr>\n",
       "      <th>0</th>\n",
       "      <td>387.500000</td>\n",
       "      <td>493.000000</td>\n",
       "      <td>403.0</td>\n",
       "      <td>2995.856109</td>\n",
       "      <td>216.028458</td>\n",
       "    </tr>\n",
       "    <tr>\n",
       "      <th>0</th>\n",
       "      <td>506.083435</td>\n",
       "      <td>368.541779</td>\n",
       "      <td>31330.0</td>\n",
       "      <td>3262.365777</td>\n",
       "      <td>254.136887</td>\n",
       "    </tr>\n",
       "    <tr>\n",
       "      <th>0</th>\n",
       "      <td>446.500000</td>\n",
       "      <td>371.500000</td>\n",
       "      <td>568.5</td>\n",
       "      <td>4119.475508</td>\n",
       "      <td>290.710419</td>\n",
       "    </tr>\n",
       "    <tr>\n",
       "      <th>0</th>\n",
       "      <td>416.500000</td>\n",
       "      <td>367.500000</td>\n",
       "      <td>21565.0</td>\n",
       "      <td>4016.782077</td>\n",
       "      <td>307.253235</td>\n",
       "    </tr>\n",
       "    <tr>\n",
       "      <th>0</th>\n",
       "      <td>452.500000</td>\n",
       "      <td>366.500000</td>\n",
       "      <td>21370.5</td>\n",
       "      <td>4480.269446</td>\n",
       "      <td>291.922180</td>\n",
       "    </tr>\n",
       "    <tr>\n",
       "      <th>...</th>\n",
       "      <td>...</td>\n",
       "      <td>...</td>\n",
       "      <td>...</td>\n",
       "      <td>...</td>\n",
       "      <td>...</td>\n",
       "    </tr>\n",
       "    <tr>\n",
       "      <th>0</th>\n",
       "      <td>301.552368</td>\n",
       "      <td>580.913879</td>\n",
       "      <td>227.0</td>\n",
       "      <td>1642.052946</td>\n",
       "      <td>164.906128</td>\n",
       "    </tr>\n",
       "    <tr>\n",
       "      <th>0</th>\n",
       "      <td>299.500000</td>\n",
       "      <td>309.500000</td>\n",
       "      <td>187036.5</td>\n",
       "      <td>3110.403232</td>\n",
       "      <td>430.686157</td>\n",
       "    </tr>\n",
       "    <tr>\n",
       "      <th>0</th>\n",
       "      <td>235.500000</td>\n",
       "      <td>309.500000</td>\n",
       "      <td>194678.5</td>\n",
       "      <td>2794.094576</td>\n",
       "      <td>388.909454</td>\n",
       "    </tr>\n",
       "    <tr>\n",
       "      <th>0</th>\n",
       "      <td>338.167633</td>\n",
       "      <td>479.795258</td>\n",
       "      <td>4892.0</td>\n",
       "      <td>374.249780</td>\n",
       "      <td>50.822788</td>\n",
       "    </tr>\n",
       "    <tr>\n",
       "      <th>0</th>\n",
       "      <td>363.379272</td>\n",
       "      <td>564.646484</td>\n",
       "      <td>5363.5</td>\n",
       "      <td>1548.070189</td>\n",
       "      <td>134.127472</td>\n",
       "    </tr>\n",
       "  </tbody>\n",
       "</table>\n",
       "<p>73 rows × 5 columns</p>\n",
       "</div>"
      ],
      "text/plain": [
       "             x           y      area       length      radius\n",
       "0   387.500000  493.000000     403.0  2995.856109  216.028458\n",
       "0   506.083435  368.541779   31330.0  3262.365777  254.136887\n",
       "0   446.500000  371.500000     568.5  4119.475508  290.710419\n",
       "0   416.500000  367.500000   21565.0  4016.782077  307.253235\n",
       "0   452.500000  366.500000   21370.5  4480.269446  291.922180\n",
       "..         ...         ...       ...          ...         ...\n",
       "0   301.552368  580.913879     227.0  1642.052946  164.906128\n",
       "0   299.500000  309.500000  187036.5  3110.403232  430.686157\n",
       "0   235.500000  309.500000  194678.5  2794.094576  388.909454\n",
       "0   338.167633  479.795258    4892.0   374.249780   50.822788\n",
       "0   363.379272  564.646484    5363.5  1548.070189  134.127472\n",
       "\n",
       "[73 rows x 5 columns]"
      ]
     },
     "execution_count": 93,
     "metadata": {},
     "output_type": "execute_result"
    }
   ],
   "source": [
    "data.to_csv(\"data.csv\")\n",
    "data"
   ]
  },
  {
   "cell_type": "code",
   "execution_count": null,
   "metadata": {},
   "outputs": [],
   "source": []
  }
 ],
 "metadata": {
  "kernelspec": {
   "display_name": "Python [conda env:tensor]",
   "language": "python",
   "name": "conda-env-tensor-py"
  },
  "language_info": {
   "codemirror_mode": {
    "name": "ipython",
    "version": 3
   },
   "file_extension": ".py",
   "mimetype": "text/x-python",
   "name": "python",
   "nbconvert_exporter": "python",
   "pygments_lexer": "ipython3",
   "version": "3.6.7"
  }
 },
 "nbformat": 4,
 "nbformat_minor": 2
}

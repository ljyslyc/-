{
 "cells": [
  {
   "cell_type": "code",
   "execution_count": 1,
   "metadata": {
    "ExecuteTime": {
     "end_time": "2019-04-01T08:21:43.039970Z",
     "start_time": "2019-04-01T08:21:43.035955Z"
    }
   },
   "outputs": [],
   "source": [
    "import cv2\n",
    "import matplotlib.pyplot as plt\n",
    "import numpy as np"
   ]
  },
  {
   "cell_type": "code",
   "execution_count": 2,
   "metadata": {
    "ExecuteTime": {
     "end_time": "2019-04-01T08:18:22.369718Z",
     "start_time": "2019-04-01T08:18:21.933791Z"
    }
   },
   "outputs": [],
   "source": [
    "img2=cv2.imread('../GG.png',0)\n",
    "img1=cv2.resize(img2,(600,400))\n",
    "img=cv2.cvtColor(img1,cv2.COLOR_BAYER_BG2GRAY)"
   ]
  },
  {
   "cell_type": "code",
   "execution_count": null,
   "metadata": {
    "ExecuteTime": {
     "end_time": "2019-04-01T08:18:46.925104Z",
     "start_time": "2019-04-01T08:18:24.271711Z"
    }
   },
   "outputs": [],
   "source": [
    "#原图像矩阵、分类的阈值、高于（低于）阈值赋予的新值、方法选择参数,返回值为阈值、处理后的图像矩阵\n",
    "ret,thresh1=cv2.threshold(img,127,255,cv2.THRESH_BINARY)#黑白二值\n",
    "ret,thresh2=cv2.threshold(img,127,255,cv2.THRESH_BINARY_INV)#黑白二值反转\n",
    "ret,thresh3=cv2.threshold(img,127,255,cv2.THRESH_TRUNC)#多像素值\n",
    "ret,thresh4=cv2.threshold(img,127,255,cv2.THRESH_TOZERO)#高于阈值时像素为255\n",
    "ret,thresh5=cv2.threshold(img,127,255,cv2.THRESH_TOZERO_INV)#低于阈值时像素为255\n",
    "\n",
    "print(ret)\n",
    "\n",
    "cv2.imshow('thresh1',thresh1)\n",
    "cv2.imshow('thresh2',thresh2)\n",
    "cv2.imshow('thresh3',thresh3)\n",
    "cv2.imshow('thresh4',thresh4)\n",
    "cv2.imshow('thresh5',thresh5)\n",
    "cv2.imshow('gray',img)\n",
    "cv2.imshow('gray1',img1)\n",
    "cv2.waitKey(0)\n",
    "cv2.destroyAllWindows()"
   ]
  },
  {
   "cell_type": "code",
   "execution_count": null,
   "metadata": {
    "ExecuteTime": {
     "end_time": "2019-04-01T12:22:50.836716Z",
     "start_time": "2019-04-01T12:22:47.832380Z"
    }
   },
   "outputs": [],
   "source": [
    "#自适应阈值\n",
    "th2=cv2.adaptiveThreshold(img,255,cv2.ADAPTIVE_THRESH_MEAN_C,cv2.THRESH_BINARY,5,2)\n",
    "th3=cv2.adaptiveThreshold(img,255,cv2.ADAPTIVE_THRESH_MEAN_C,cv2.THRESH_BINARY,11,2)\n",
    "th4=cv2.adaptiveThreshold(img,255,cv2.ADAPTIVE_THRESH_MEAN_C,cv2.THRESH_BINARY_INV,5,2)\n",
    "th5=cv2.adaptiveThreshold(img,255,cv2.ADAPTIVE_THRESH_GAUSSIAN_C,cv2.THRESH_BINARY,5,2)\n",
    "th6=cv2.adaptiveThreshold(img,255,cv2.ADAPTIVE_THRESH_GAUSSIAN_C,cv2.THRESH_BINARY,21,2)\n",
    "\n",
    "\n",
    "cv2.imshow('img',img)\n",
    "cv2.imshow('th2',th2)\n",
    "cv2.imshow('th3',th3)\n",
    "cv2.imshow('th4',th4)\n",
    "cv2.imshow('th5',th5)\n",
    "cv2.imshow('th6',th6)\n",
    "cv2.waitKey(0)\n",
    "cv2.destroyAllWindows()"
   ]
  },
  {
   "cell_type": "code",
   "execution_count": null,
   "metadata": {
    "ExecuteTime": {
     "end_time": "2019-04-01T12:23:22.488449Z",
     "start_time": "2019-04-01T12:23:22.009730Z"
    }
   },
   "outputs": [],
   "source": [
    "plt.figure(figsize=(12,6))\n",
    "plt.subplot(231)\n",
    "plt.imshow(img,cmap='gray')\n",
    "plt.title('img')\n",
    "plt.subplot(232)\n",
    "plt.imshow(th2,cmap='gray')\n",
    "plt.title('th2')\n",
    "plt.subplot(233)\n",
    "plt.imshow(th3,cmap='gray')\n",
    "plt.title('th3')\n",
    "plt.subplot(234)\n",
    "plt.imshow(th4,cmap='gray')\n",
    "plt.title('th4')\n",
    "plt.subplot(235)\n",
    "plt.imshow(th5,cmap='gray')\n",
    "plt.title('th5')\n",
    "plt.subplot(236)\n",
    "plt.imshow(th6,cmap='gray')\n",
    "plt.title('th6')"
   ]
  },
  {
   "cell_type": "code",
   "execution_count": 20,
   "metadata": {
    "ExecuteTime": {
     "end_time": "2019-03-30T07:10:39.686214Z",
     "start_time": "2019-03-30T07:10:29.459377Z"
    }
   },
   "outputs": [
    {
     "name": "stdout",
     "output_type": "stream",
     "text": [
      "104.0\n"
     ]
    },
    {
     "data": {
      "image/png": "[encoded data removed]",
      "text/plain": [
       "<Figure size 432x288 with 1 Axes>"
      ]
     },
     "metadata": {},
     "output_type": "display_data"
    }
   ],
   "source": [
    "#otsu二值化\n",
    "ret1,thresh1=cv2.threshold(img,127,255,cv2.THRESH_BINARY)#黑白二值\n",
    "ret2,thresh2=cv2.threshold(img,0,255,cv2.THRESH_BINARY+cv2.THRESH_OTSU)\n",
    "print(ret2)\n",
    "\n",
    "cv2.imshow('img',img)\n",
    "cv2.imshow('thresh1',thresh1)\n",
    "cv2.imshow('thresh2',thresh2)\n",
    "#解决matploylib中中文无法显示问题\n",
    "plt.rcParams['font.sans-serif']=['SimHei']\n",
    "plt.rcParams['axes.unicode_minus']=False\n",
    "plt.hist(img.ravel(),256)\n",
    "plt.title('灰度直方图')\n",
    "plt.show()\n",
    "cv2.waitKey(0)\n",
    "cv2.destroyAllWindows()"
   ]
  },
  {
   "cell_type": "code",
   "execution_count": null,
   "metadata": {
    "ExecuteTime": {
     "end_time": "2019-04-01T08:17:31.951782Z",
     "start_time": "2019-04-01T08:17:30.901261Z"
    }
   },
   "outputs": [],
   "source": [
    "#coding:utf8\n",
    "import cv2\n",
    "import matplotlib.pyplot as plt\n",
    "import numpy as np\n",
    "import sys\n",
    "import os\n",
    "\n",
    "filename='../GG.png' #柿子彩色图\n",
    "\n",
    "img = cv2.imread(filename)\n",
    "grey = cv2.cvtColor(img,cv2.COLOR_BGR2GRAY)\n",
    "grey = cv2.resize(grey,(600,400))"
   ]
  },
  {
   "cell_type": "code",
   "execution_count": null,
   "metadata": {
    "ExecuteTime": {
     "end_time": "2019-04-01T08:17:54.552283Z",
     "start_time": "2019-04-01T08:17:53.834792Z"
    }
   },
   "outputs": [],
   "source": [
    "##--------经验阈值法--------##\n",
    "plt.figure(figsize=(12,6))\n",
    "plt.subplot(221)\n",
    "plt.imshow(grey,cmap ='gray')\n",
    "plt.title(\"original gray pic\")\n",
    "\n",
    "img50 = np.array(grey)\n",
    "img50[img50<50]=0\n",
    "plt.subplot(222)\n",
    "plt.imshow(img50, cmap=\"gray\")\n",
    "plt.title(\"threshold set to 50\")\n",
    "\n",
    "img100 = np.array(grey)\n",
    "img100[img100<100]=0\n",
    "plt.subplot(223)\n",
    "plt.imshow(img100, cmap=\"gray\")\n",
    "plt.title(\"threshold set to 100\")\n",
    "\n",
    "img150 = np.array(grey)\n",
    "img150[img150<150]=0\n",
    "plt.subplot(224)\n",
    "plt.imshow(img150, cmap=\"gray\")\n",
    "plt.title(\"threshold set to 150\")\n",
    "\n",
    "plt.tight_layout()\n",
    "plt.show()"
   ]
  },
  {
   "cell_type": "code",
   "execution_count": null,
   "metadata": {
    "ExecuteTime": {
     "end_time": "2019-04-01T12:18:15.371957Z",
     "start_time": "2019-04-01T12:18:15.122601Z"
    }
   },
   "outputs": [],
   "source": [
    "greyblur = cv2.GaussianBlur(grey,(5,5),0)\n",
    "ret,thre=cv2.threshold(greyblur,0,255,cv2.THRESH_BINARY+cv2.THRESH_OTSU)\n",
    "print(ret)\n",
    "plt.figure(figsize=(12,6))\n",
    "plt.subplot(121)\n",
    "plt.imshow(grey,cmap='gray')\n",
    "plt.title('original')\n",
    "plt.subplot(122)\n",
    "plt.imshow(thre,cmap='gray')\n",
    "plt.title('ostu')"
   ]
  },
  {
   "cell_type": "code",
   "execution_count": null,
   "metadata": {
    "ExecuteTime": {
     "end_time": "2019-04-01T12:52:07.127105Z",
     "start_time": "2019-04-01T12:52:05.964189Z"
    }
   },
   "outputs": [],
   "source": [
    "##------转换空间再求阈值------##\n",
    "rgbimg=cv2.imread(filename)\n",
    "rgbimg = cv2.resize(rgbimg,(600,400))\n",
    "hsvimg = cv2.cvtColor(rgbimg,cv2.COLOR_BGR2HSV)\n",
    "plt.figure(figsize=(12,6))\n",
    "plt.subplot(131)\n",
    "plt.imshow(hsvimg[:,:,0],cmap ='gray')\n",
    "plt.title(\"h\")\n",
    "plt.subplot(132)\n",
    "plt.imshow(hsvimg[:,:,1],cmap ='gray')\n",
    "plt.title(\"s\")\n",
    "plt.subplot(133)\n",
    "plt.imshow(hsvimg[:,:,2],cmap ='gray')\n",
    "plt.title(\"v\")\n",
    "plt.show()\n",
    "\n",
    "grey = hsvimg[:,:,2]\n",
    "greyblur = cv2.GaussianBlur(grey,(5,5),0)\n",
    "th,result = cv2.threshold(greyblur,0,255,cv2.THRESH_BINARY+cv2.THRESH_OTSU)\n",
    "print(th)\n",
    "plt.figure(figsize=(12,6))\n",
    "plt.subplot(121)\n",
    "plt.imshow(grey,cmap ='gray')\n",
    "plt.title(\"original gray pic\")\n",
    "plt.subplot(122)\n",
    "plt.imshow(result, cmap=\"gray\")\n",
    "plt.title(\"otsu threshold\")\n",
    "plt.show()"
   ]
  },
  {
   "cell_type": "code",
   "execution_count": null,
   "metadata": {},
   "outputs": [],
   "source": []
  }
 ],
 "metadata": {
  "kernelspec": {
   "display_name": "Python 3",
   "language": "python",
   "name": "python3"
  },
  "language_info": {
   "codemirror_mode": {
    "name": "ipython",
    "version": 3
   },
   "file_extension": ".py",
   "mimetype": "text/x-python",
   "name": "python",
   "nbconvert_exporter": "python",
   "pygments_lexer": "ipython3",
   "version": "3.6.7"
  }
 },
 "nbformat": 4,
 "nbformat_minor": 2
}

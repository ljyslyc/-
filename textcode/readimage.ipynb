{
 "cells": [
  {
   "cell_type": "code",
   "execution_count": 7,
   "metadata": {},
   "outputs": [
    {
     "data": {
      "text/plain": [
       "-1"
      ]
     },
     "execution_count": 7,
     "metadata": {},
     "output_type": "execute_result"
    }
   ],
   "source": [
    "import cv2 as cv\n",
    "import numpy as np\n",
    "\n",
    "img = cv.imread('..\\data\\empire.jpg') # 读取RGB彩⾊图⽚\n",
    "img_gray = cv.cvtColor(img, cv.COLOR_BGR2GRAY) # RGB图转灰度图\n",
    "cv.imshow('color image', img_gray) # 显示图⽚\n",
    "cv.waitKey(0) # 图⽚显示时间设定， 0代表⼀直显示，直到有键盘输⼊\n",
    "\n",
    "# cv.imwrite(\"img/lena2.jpg\", img) # 保存图⽚\n",
    "# cv.imwrite('img/lina_jpeg_quality_90.jpg', img, [int(cv.IMWRITE_JPEG_QUALITY), 90])\n",
    "# cv.imwrite('img/line_png_compress_2.png', img, [int(cv.IMWRITE_PNG_COMPRESSION), 2])\n"
   ]
  },
  {
   "cell_type": "code",
   "execution_count": 8,
   "metadata": {},
   "outputs": [
    {
     "name": "stdout",
     "output_type": "stream",
     "text": [
      "<class 'numpy.ndarray'>\n",
      "(800, 569, 3)\n",
      "1365600\n",
      "uint8\n",
      "[[[188 133  88]\n",
      "  [186 131  86]\n",
      "  [186 131  86]\n",
      "  ...\n",
      "  [250 248 247]\n",
      "  [249 247 246]\n",
      "  [249 247 246]]\n",
      "\n",
      " [[189 134  89]\n",
      "  [188 133  88]\n",
      "  [188 133  88]\n",
      "  ...\n",
      "  [249 247 246]\n",
      "  [249 247 246]\n",
      "  [251 247 246]]\n",
      "\n",
      " [[189 135  88]\n",
      "  [188 134  87]\n",
      "  [187 133  86]\n",
      "  ...\n",
      "  [250 246 245]\n",
      "  [250 246 245]\n",
      "  [251 247 246]]\n",
      "\n",
      " ...\n",
      "\n",
      " [[231 177 130]\n",
      "  [232 178 131]\n",
      "  [232 178 131]\n",
      "  ...\n",
      "  [ 36  40  35]\n",
      "  [ 37  41  36]\n",
      "  [ 37  41  35]]\n",
      "\n",
      " [[231 177 130]\n",
      "  [232 178 131]\n",
      "  [232 178 131]\n",
      "  ...\n",
      "  [ 37  41  36]\n",
      "  [ 40  44  39]\n",
      "  [ 39  43  37]]\n",
      "\n",
      " [[231 178 128]\n",
      "  [233 180 130]\n",
      "  [231 178 128]\n",
      "  ...\n",
      "  [ 38  42  37]\n",
      "  [ 38  42  37]\n",
      "  [ 37  41  35]]]\n"
     ]
    }
   ],
   "source": [
    "def get_image_info(image): \n",
    "    print(type(image))\n",
    "    print(image.shape)\n",
    "    print(image.size)\n",
    "    print(image.dtype)\n",
    "    pixel_data = np.array(image)\n",
    "    print(pixel_data)\n",
    "cv.imshow('color image', img)\n",
    "get_image_info(img)\n"
   ]
  },
  {
   "cell_type": "code",
   "execution_count": null,
   "metadata": {},
   "outputs": [],
   "source": []
  }
 ],
 "metadata": {
  "kernelspec": {
   "display_name": "Python [conda env:tensor]",
   "language": "python",
   "name": "conda-env-tensor-py"
  },
  "language_info": {
   "codemirror_mode": {
    "name": "ipython",
    "version": 3
   },
   "file_extension": ".py",
   "mimetype": "text/x-python",
   "name": "python",
   "nbconvert_exporter": "python",
   "pygments_lexer": "ipython3",
   "version": "3.6.7"
  }
 },
 "nbformat": 4,
 "nbformat_minor": 2
}

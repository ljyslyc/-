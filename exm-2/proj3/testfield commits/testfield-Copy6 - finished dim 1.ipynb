{
 "cells": [
  {
   "cell_type": "code",
   "execution_count": 134,
   "metadata": {
    "collapsed": true
   },
   "outputs": [],
   "source": [
    "import numpy as np\n",
    "from scipy import signal, sparse\n",
    "import skimage as sk\n",
    "import skimage.filters as sf\n",
    "import skimage.io as skio\n",
    "from skimage.io import imsave, imshow, show\n",
    "\n",
    "from operations import *"
   ]
  },
  {
   "cell_type": "code",
   "execution_count": 354,
   "metadata": {},
   "outputs": [
    {
     "name": "stderr",
     "output_type": "stream",
     "text": [
      "/Users/reginaongowarsito/anaconda3/lib/python3.6/site-packages/skimage/io/_plugins/matplotlib_plugin.py:51: FutureWarning: Conversion of the second argument of issubdtype from `float` to `np.floating` is deprecated. In future, it will be treated as `np.float64 == np.dtype(float).type`.\n",
      "  out_of_range_float = (np.issubdtype(image.dtype, np.float) and\n",
      "/Users/reginaongowarsito/anaconda3/lib/python3.6/site-packages/matplotlib/axes/_base.py:1428: MatplotlibDeprecationWarning: The 'box-forced' keyword argument is deprecated since 2.2.\n",
      "  \" since 2.2.\", cbook.mplDeprecation)\n"
     ]
    },
    {
     "data": {
      "image/png": "[encoded data removed]",
      "text/plain": [
       "<Figure size 432x288 with 1 Axes>"
      ]
     },
     "metadata": {},
     "output_type": "display_data"
    }
   ],
   "source": [
    "impathToy = 'sample_imgs/samples/toy_problem.png'\n",
    "imT = skio.imread(impathToy)\n",
    "imT = sk.img_as_float(imT)\n",
    "\n",
    "impathM = 'sample_imgs/spline/mask2.jpg'\n",
    "imM = skio.imread(impathM)\n",
    "imM = sk.img_as_float(imM)\n",
    "\n",
    "impathToyMask = 'sample_imgs/samples/toy_problem mask.png'\n",
    "imToyMask = skio.imread(impathToyMask)\n",
    "imToyMask = sk.img_as_float(imToyMask)\n",
    "# viewImage(imToyMask)\n",
    "\n",
    "impathToyMaskMix = 'sample_imgs/samples/toy_problem mask_mix.png'\n",
    "imToyMaskMix = skio.imread(impathToyMaskMix)\n",
    "imToyMaskMix = sk.img_as_float(imToyMaskMix)\n",
    "viewImage(imToyMaskMix)\n",
    "\n",
    "impathToyCol = 'sample_imgs/samples/toy_problem_color.png'\n",
    "imToyCol = skio.imread(impathToyCol)\n",
    "imToyCol = sk.img_as_float(imToyCol)\n",
    "# viewImage(imToyMask)\n",
    "\n",
    "impathPengChick = 'sample_imgs/samples/penguin-chick.jpeg'\n",
    "imPengChick = skio.imread(impathPengChick)\n",
    "imPengChick = sk.img_as_float(imPengChick)\n",
    "# viewImage(imPengChick)"
   ]
  },
  {
   "cell_type": "code",
   "execution_count": 400,
   "metadata": {
    "collapsed": true
   },
   "outputs": [],
   "source": [
    "mask = np.ones(imT.shape)\n",
    "\n",
    "def createNonZeroPairs(mask):\n",
    "    #TODO extend\n",
    "    if mask.ndim == 3:\n",
    "        mask = np.squeeze(np.dsplit(mask, [1])[0], axis=2)\n",
    "        # change 3 channel to 1 value per pixel,\n",
    "        # specifically using the 0th channel's\n",
    "    maskNonZero = mask.nonzero()\n",
    "    \n",
    "#    return maskNonZero\n",
    "    \n",
    "    nonZeroIndices = []\n",
    "#    mask\n",
    "    for i in range(len(maskNonZero[0])):\n",
    "        nonZeroIndices.append((maskNonZero[0][i], maskNonZero[1][i]))\n",
    "    \n",
    "    return nonZeroIndices\n",
    "\n",
    "#####\n",
    "# mask.nonzero() ## assume it's 1D\n",
    "\n",
    "def makeIm2Var(mask):\n",
    "    nonZeroIndices = createNonZeroPairs(mask)\n",
    "    \n",
    "    maskHeight, maskWidth = mask.shape\n",
    "    # print(\"weepweep: \", maskHeight, maskWidth)\n",
    "\n",
    "    dictIm2Var = dict()\n",
    "    dictVar2Im = dict()\n",
    "    \n",
    "    dictRow2Cols = dict()\n",
    "    dictCol2Rows = dict()\n",
    "\n",
    "    fTup2Key = (lambda tup: \"%i-%i\" % tup)\n",
    "    fYX2Key = (lambda y, x: fTup2Key((y, x)))\n",
    "\n",
    "    for i in range(len(nonZeroIndices)):\n",
    "        pair = nonZeroIndices[i]\n",
    "        row, col = pair\n",
    "        \n",
    "        if row not in dictRow2Cols:\n",
    "            dictRow2Cols[row] = []\n",
    "        dictRow2Cols[row].append(col)\n",
    "        \n",
    "        if col not in dictCol2Rows:\n",
    "            dictCol2Rows[col] = []\n",
    "        dictCol2Rows[col].append(row)\n",
    "        \n",
    "        key = fTup2Key(pair)\n",
    "        dictIm2Var[key] = i\n",
    "        dictVar2Im[i] = pair\n",
    "\n",
    "    im2Var = (lambda y, x: dictIm2Var[fYX2Key(y, x)])\n",
    "    var2Im = (lambda x: dictVar2Im[x])\n",
    "    totalUnknowns = len(nonZeroIndices)\n",
    "    \n",
    "    dictCol2Borders = dict()\n",
    "    dictRow2Borders = dict()\n",
    "    \n",
    "    def getColBorders(col, mode):\n",
    "        if mode == \"ltr\":\n",
    "            mode = 0\n",
    "        elif mode == \"rtl\":\n",
    "            mode = 1\n",
    "        elif mode == \"both\":\n",
    "            mode = 2\n",
    "        else:\n",
    "            raise Exception(\"unrecognized mode\")\n",
    "        return dictCol2Borders[col][mode]\n",
    "    def getRowBorders(row, mode):\n",
    "        if mode == \"ltr\":\n",
    "            mode = 0\n",
    "        elif mode == \"rtl\":\n",
    "            mode = 1\n",
    "        elif mode == \"both\":\n",
    "            mode = 2\n",
    "        else:\n",
    "            raise Exception(\"unrecognized mode\")\n",
    "        return dictRow2Borders[row][mode]\n",
    "\n",
    "\n",
    "    for col, rows in dictCol2Rows.items():\n",
    "        dictCol2Borders[col] = findBorders(rows, maskHeight - 1)\n",
    "    for row, cols in dictRow2Cols.items():\n",
    "        dictRow2Borders[row] = findBorders(cols, maskWidth - 1)\n",
    "    \n",
    "    # print(dictIm2Var)\n",
    "    return im2Var, var2Im, totalUnknowns, dictRow2Cols, dictCol2Rows, getColBorders, getRowBorders\n",
    "\n",
    "# im2Var, var2Im, totalUnknowns, dictRow2Cols, dictCol2Rows, getColBorders, getRowBorders = makeIm2Var(mask)\n",
    "\n",
    "# im2Var(3, 2)"
   ]
  },
  {
   "cell_type": "code",
   "execution_count": 401,
   "metadata": {},
   "outputs": [
    {
     "name": "stdout",
     "output_type": "stream",
     "text": [
      "119 110\n"
     ]
    }
   ],
   "source": [
    "targetYX = (0, 0)\n",
    "imTarg = imT\n",
    "imSrc = imT\n",
    "srcMask = imToyMaskMix\n",
    "newImSrc, newSrcMask = shiftObjectNMask(targetYX, imSrc, srcMask, imTarg)\n",
    "\n",
    "im2Var, var2Im, totalUnknowns, dictRow2Cols, dictCol2Rows, getColBorders, getRowBorders = makeIm2Var(newSrcMask)"
   ]
  },
  {
   "cell_type": "code",
   "execution_count": 405,
   "metadata": {},
   "outputs": [
    {
     "data": {
      "text/plain": [
       "{55, 64}"
      ]
     },
     "execution_count": 405,
     "metadata": {},
     "output_type": "execute_result"
    }
   ],
   "source": [
    "getRowBorders(22, \"both\")"
   ]
  },
  {
   "cell_type": "code",
   "execution_count": 408,
   "metadata": {},
   "outputs": [
    {
     "name": "stdout",
     "output_type": "stream",
     "text": [
      "118 109\n"
     ]
    }
   ],
   "source": [
    "\n",
    "# totalUnknowns = rHeight * rWidth #change\n",
    "\n",
    "if imTarg.ndim == 3:\n",
    "    maxHeightInd, maxWidthInd, _ = imTarg.shape\n",
    "elif imTarg.ndim == 2:\n",
    "    maxHeightInd, maxWidthInd = imTarg.shape\n",
    "else:\n",
    "    raise Exception(\"...unrecognized ndim?\")\n",
    "maxHeightInd -= 1\n",
    "maxWidthInd -= 1\n",
    "\n",
    "rHeight, rWidth = len(dictRow2Cols), len(dictCol2Rows)\n",
    "\n",
    "print(maxHeightInd, maxWidthInd)\n",
    "\n",
    "neg1_changeListY = []\n",
    "neg1_changeListX = []\n",
    "pos1_changeListY = []\n",
    "pos1_changeListX = []\n",
    "\n",
    "# def neg1(y, x):\n",
    "\n",
    "bList = []\n",
    "\n",
    "newLineCt = -1\n",
    "for y, cols in dictRow2Cols.items():\n",
    "    # cols = dictRow2Cols[y]\n",
    "    if len(cols) <= 1:\n",
    "        continue\n",
    "    \n",
    "    for col in cols:\n",
    "        if col == maxWidthInd or col in getRowBorders(y, \"rtl\"):\n",
    "            continue\n",
    "        newLineCt += 1\n",
    "        neg1_changeListY.append(newLineCt)\n",
    "        neg1_changeListX.append(im2Var(y, col))\n",
    "\n",
    "        pos1_changeListY.append(newLineCt)\n",
    "        pos1_changeListX.append(im2Var(y, col+1))\n",
    "        \n",
    "        bList.append(newImSrc[y, col+1] - newImSrc[y, col])\n",
    "\n",
    "for x, rows in dictCol2Rows.items():\n",
    "    if len(rows) <= 1:\n",
    "        continue\n",
    "        \n",
    "    for row in rows: # in range(len(rows) - 1):\n",
    "        if row == maxHeightInd or row in getColBorders(x, \"rtl\"):\n",
    "            continue\n",
    "        newLineCt += 1\n",
    "        neg1_changeListY.append(newLineCt)\n",
    "        neg1_changeListX.append(im2Var(row, x))\n",
    "        \n",
    "        pos1_changeListY.append(newLineCt)\n",
    "        pos1_changeListX.append(im2Var(row+1, x))\n",
    "        \n",
    "        bList.append(newImSrc[row+1, x] - newImSrc[row, x])\n",
    "        \n",
    "# print(neg1_changeListY)\n",
    "# print(neg1_changeListX)\n",
    "# print(pos1_changeListY)\n",
    "# print(pos1_changeListX)\n",
    "\n",
    "## TOY PROB corner match\n",
    "if imSrc == imT and imTarg == imT:\n",
    "    newLineCt += 1\n",
    "    pos1_changeListY.append(newLineCt)\n",
    "    pos1_changeListX.append(im2Var(0, 0))\n",
    "    bList.append(newImSrc[0, 0])\n",
    "\n",
    "newA = np.zeros((newLineCt + 1, totalUnknowns))\n",
    "\n",
    "newA[neg1_changeListY,neg1_changeListX] = -1\n",
    "newA[pos1_changeListY,pos1_changeListX] = 1\n",
    "\n",
    "# newA\n",
    "b = np.array(bList)"
   ]
  },
  {
   "cell_type": "code",
   "execution_count": 409,
   "metadata": {
    "collapsed": true
   },
   "outputs": [],
   "source": [
    "\"\"\"\n",
    "for every row:\n",
    "    for every pixel I in ltr:\n",
    "        add to A a 1 in position im(row, I)\n",
    "        add to B = imTarg[I+1]\n",
    "        #just get ready to change this shit to imTarg[row, I+1] - imTarg[row, I]\n",
    "    for every pixel I in rtl:\n",
    "        add to A a 1 in position im(row, I)\n",
    "        add to B = imTarg[row, I-1]\n",
    "        #just get ready to change this shit to imTarg[row, I] - imTarg[row, I-1]\n",
    "\n",
    "for every col:\n",
    "    for every pixel J in ltr:\n",
    "        add to A a 1 in position im(J, col)\n",
    "        add to B = imTarg[J+1, col]\n",
    "        #just get ready to change this shit to imTarg[J+1, col] - imTarg[J, col]\n",
    "    for every pixel J in rtl:\n",
    "        add to A a 1 in position im(J, col)\n",
    "        add to B = imTarg[J-1, col]\n",
    "        #just get ready to change this shit to imTarg[J, col] - imTarg[J-1, col]\n",
    "    \n",
    "\"\"\"\n",
    "\n",
    "outReg_neg1_changeListY = []\n",
    "outReg_neg1_changeListX = []\n",
    "outReg_po1_changeListY = []\n",
    "outReg_po1_changeListX = []\n",
    "\n",
    "outReg_bList = []\n",
    "\n",
    "outReg_LineCt = -1\n",
    "\n",
    "for row in dictRow2Cols:\n",
    "    for i in getRowBorders(row, \"ltr\"):\n",
    "        # print(\"before:\", outReg_LineCt)\n",
    "        outReg_LineCt += 1\n",
    "        outReg_po1_changeListY.append(outReg_LineCt)\n",
    "        outReg_po1_changeListX.append(im2Var(row, i))\n",
    "        \n",
    "        outReg_bList.append(imTarg[row, i+1])\n",
    "        # change to i+1 - i?\n",
    "        # print(\"LTR row: \", outReg_LineCt, im2Var(row, i))\n",
    "    for j in getRowBorders(row, \"rtl\"):\n",
    "        outReg_LineCt += 1\n",
    "        outReg_po1_changeListY.append(outReg_LineCt)\n",
    "        outReg_po1_changeListX.append(im2Var(row, j))\n",
    "        \n",
    "        outReg_bList.append(imTarg[row, j-1])\n",
    "        # change to i+1 - i?\n",
    "        # print(\"RTL row: \", outReg_LineCt, im2Var(row, j))\n",
    "for col in dictCol2Rows:\n",
    "    for m in getColBorders(col, \"ltr\"):\n",
    "        outReg_LineCt += 1\n",
    "        outReg_po1_changeListY.append(outReg_LineCt)\n",
    "        outReg_po1_changeListX.append(im2Var(m, col))\n",
    "        \n",
    "        outReg_bList.append(imTarg[m+1, col])\n",
    "    for n in getColBorders(col, \"rtl\"):\n",
    "        outReg_LineCt += 1\n",
    "        outReg_po1_changeListY.append(outReg_LineCt)\n",
    "        outReg_po1_changeListX.append(im2Var(n, col))\n",
    "        \n",
    "        outReg_bList.append(imTarg[n-1, col])\n",
    "\n",
    "outReg_A = np.zeros((outReg_LineCt + 1, totalUnknowns))\n",
    "\n",
    "# print(outReg_po1_changeListY)\n",
    "# print(outReg_po1_changeListX)\n",
    "\n",
    "outReg_A[outReg_neg1_changeListY,outReg_neg1_changeListX] = -1\n",
    "outReg_A[outReg_po1_changeListY,outReg_po1_changeListX] = 1\n",
    "\n",
    "# newA\n",
    "outReg_b = np.array(outReg_bList)\n",
    "\n"
   ]
  },
  {
   "cell_type": "code",
   "execution_count": 385,
   "metadata": {
    "collapsed": true,
    "scrolled": true
   },
   "outputs": [],
   "source": [
    "# bnewA, bb\n",
    "\n",
    "# testt = []\n",
    "# testtb = []\n",
    "# testttt = []\n",
    "# testtttb = []\n",
    "# for row in dictRow2Cols:\n",
    "#     for i in getRowBorders(row, \"ltr\"):\n",
    "#         testt.append((row, i))\n",
    "#         testttt.append(im2Var(row, i))\n",
    "#     for j in getRowBorders(row, \"rtl\"):\n",
    "#         testtb.append((row, j))\n",
    "#         testtttb.append(im2Var(row, j))\n",
    "# print(testt)\n",
    "# print(testtb)\n",
    "# print(testttt)\n",
    "# print(testtttb)\n",
    "# print(bnewA.nonzero()[1])"
   ]
  },
  {
   "cell_type": "code",
   "execution_count": 419,
   "metadata": {
    "collapsed": true
   },
   "outputs": [],
   "source": [
    "resolve = sparse.linalg.lsqr(newA, b)"
   ]
  },
  {
   "cell_type": "code",
   "execution_count": 414,
   "metadata": {},
   "outputs": [
    {
     "data": {
      "text/plain": [
       "((3852,), (200,))"
      ]
     },
     "execution_count": 414,
     "metadata": {},
     "output_type": "execute_result"
    }
   ],
   "source": [
    "# newA.shape, outReg_A.shape\n",
    "b.shape, outReg_b.shape"
   ]
  },
  {
   "cell_type": "code",
   "execution_count": 417,
   "metadata": {
    "collapsed": true
   },
   "outputs": [],
   "source": [
    "### FINAL FORM\n",
    "totalA = np.vstack((newA, outReg_A))\n",
    "totalB = np.hstack((b, outReg_b))\n",
    "\n",
    "resolve2222 = sparse.linalg.lsqr(totalA, totalB)"
   ]
  },
  {
   "cell_type": "code",
   "execution_count": 447,
   "metadata": {},
   "outputs": [
    {
     "data": {
      "text/plain": [
       "(-0.007248567988096904, 1.0285649071203748)"
      ]
     },
     "execution_count": 447,
     "metadata": {},
     "output_type": "execute_result"
    }
   ],
   "source": []
  },
  {
   "cell_type": "code",
   "execution_count": 449,
   "metadata": {},
   "outputs": [
    {
     "name": "stderr",
     "output_type": "stream",
     "text": [
      "/Users/reginaongowarsito/anaconda3/lib/python3.6/site-packages/skimage/util/dtype.py:122: UserWarning: Possible precision loss when converting from float64 to uint16\n",
      "  .format(dtypeobj_in, dtypeobj_out))\n",
      "/Users/reginaongowarsito/anaconda3/lib/python3.6/site-packages/skimage/io/_plugins/matplotlib_plugin.py:51: FutureWarning: Conversion of the second argument of issubdtype from `float` to `np.floating` is deprecated. In future, it will be treated as `np.float64 == np.dtype(float).type`.\n",
      "  out_of_range_float = (np.issubdtype(image.dtype, np.float) and\n",
      "/Users/reginaongowarsito/anaconda3/lib/python3.6/site-packages/matplotlib/axes/_base.py:1428: MatplotlibDeprecationWarning: The 'box-forced' keyword argument is deprecated since 2.2.\n",
      "  \" since 2.2.\", cbook.mplDeprecation)\n"
     ]
    },
    {
     "data": {
      "image/png": "[encoded data removed]",
      "text/plain": [
       "<Figure size 432x288 with 2 Axes>"
      ]
     },
     "metadata": {},
     "output_type": "display_data"
    }
   ],
   "source": [
    "\"\"\"\n",
    "matchback var id to im coord\n",
    "create new photo where\n",
    "    if in region, use the var id\n",
    "    else if outregion, use target image\n",
    "\"\"\"\n",
    "\n",
    "finalIm22 = np.matrix.copy(imTarg)\n",
    "\n",
    "# finalIm22[0, 0] = 0\n",
    "# finalIm22[0, 1] = 0\n",
    "\n",
    "## you have to figure out how to do this w color pics\n",
    "sol2222 = resolve2222[0]\n",
    "sol2222 = np.clip(sol2222, -1, 1)\n",
    "for varId, value in enumerate(sol2222):\n",
    "    hei, wid = var2Im(varId)\n",
    "    finalIm22[hei, wid] = value\n",
    "\n",
    "testImage(\"finale.png\", finalIm22)"
   ]
  },
  {
   "cell_type": "code",
   "execution_count": 425,
   "metadata": {},
   "outputs": [
    {
     "data": {
      "text/plain": [
       "(22, 57)"
      ]
     },
     "execution_count": 425,
     "metadata": {},
     "output_type": "execute_result"
    }
   ],
   "source": [
    "# asda = newSrcMask == 1\n",
    "# print(newSrcMask.shape, asda.shape)\n",
    "\n"
   ]
  },
  {
   "cell_type": "code",
   "execution_count": 346,
   "metadata": {},
   "outputs": [
    {
     "name": "stderr",
     "output_type": "stream",
     "text": [
      "/Users/reginaongowarsito/anaconda3/lib/python3.6/site-packages/skimage/util/dtype.py:122: UserWarning: Possible precision loss when converting from float64 to uint16\n",
      "  .format(dtypeobj_in, dtypeobj_out))\n",
      "/Users/reginaongowarsito/anaconda3/lib/python3.6/site-packages/skimage/io/_plugins/matplotlib_plugin.py:51: FutureWarning: Conversion of the second argument of issubdtype from `float` to `np.floating` is deprecated. In future, it will be treated as `np.float64 == np.dtype(float).type`.\n",
      "  out_of_range_float = (np.issubdtype(image.dtype, np.float) and\n",
      "/Users/reginaongowarsito/anaconda3/lib/python3.6/site-packages/matplotlib/axes/_base.py:1428: MatplotlibDeprecationWarning: The 'box-forced' keyword argument is deprecated since 2.2.\n",
      "  \" since 2.2.\", cbook.mplDeprecation)\n"
     ]
    },
    {
     "data": {
      "image/png": "[encoded data removed]",
      "text/plain": [
       "<Figure size 432x288 with 2 Axes>"
      ]
     },
     "metadata": {},
     "output_type": "display_data"
    }
   ],
   "source": [
    "# reconstruct from solution 2 im\n",
    "\n",
    "finalIm = np.zeros((rHeight, rWidth)) #watch this break lmao\n",
    "\n",
    "solution = resolve[0]\n",
    "\n",
    "# for x in enumerate(solution):\n",
    "#     print(x)\n",
    "\n",
    "for varId, sol in enumerate(solution):\n",
    "    # print(var2Im(varId))\n",
    "    \n",
    "    y, x = var2Im(varId)\n",
    "    \n",
    "    finalIm[y, x] = sol\n",
    "\n",
    "testImage(\"hooo5.png\", finalIm)"
   ]
  },
  {
   "cell_type": "code",
   "execution_count": 233,
   "metadata": {},
   "outputs": [
    {
     "data": {
      "text/plain": [
       "({2, 4}, {0, 2, 7}, {0, 2, 4, 7})"
      ]
     },
     "execution_count": 233,
     "metadata": {},
     "output_type": "execute_result"
    }
   ],
   "source": [
    "def findBorders(row, maxIndex):\n",
    "#     if mode == \"rtl\":\n",
    "#         RTL = True\n",
    "#         LTR = False\n",
    "#     elif mode == \"ltr\":\n",
    "#         RTL = False\n",
    "#         LTR = True\n",
    "#     elif mode == \"both\":\n",
    "#         RTL = True\n",
    "#         LTR = True\n",
    "    \"\"\"\n",
    "    input = [1, 2, 5, 6]\n",
    "    output = [2, 5]\n",
    "    # q: do we care about image boundary boundaries\n",
    "    # a: no, it'll eff up the algo -- if you need image boundary stuff\n",
    "    # add it separately on the algo\n",
    "    \"\"\"\n",
    "    assert row[-1] <= maxIndex\n",
    "\n",
    "    ltrBorders = set()\n",
    "    rtlBorders = set()\n",
    "    \n",
    "    if len(row) == 0:\n",
    "        return borders\n",
    "    \n",
    "    minIndex = 0\n",
    "        \n",
    "    diff = [row[0] - (minIndex - 1)]\n",
    "    for i in range(1, len(row)):\n",
    "        diff.append(row[i] - row[i-1])\n",
    "    diff.append(maxIndex + 1 - row[-1])\n",
    "    # print(diff)\n",
    "    \n",
    "    for ind, val in enumerate(diff):\n",
    "        if val > 1:\n",
    "            # if RTL:\n",
    "            if ind - 1 >= 0: # comment this out to get left to right edge\n",
    "                rtlBorders.add(row[ind - 1])\n",
    "            #if LTR:\n",
    "            if ind < len(row): # comment this out to get right to left edge\n",
    "                ltrBorders.add(row[ind])\n",
    "    \n",
    "    return ltrBorders, rtlBorders, ltrBorders.union(rtlBorders)\n",
    "\n",
    "findBorders([0, 2, 4, 5, 6, 7], 8)"
   ]
  },
  {
   "cell_type": "code",
   "execution_count": null,
   "metadata": {
    "collapsed": true
   },
   "outputs": [],
   "source": []
  },
  {
   "cell_type": "code",
   "execution_count": 312,
   "metadata": {},
   "outputs": [
    {
     "name": "stdout",
     "output_type": "stream",
     "text": [
      "500 404\n",
      "(500, 404, 3)\n"
     ]
    },
    {
     "name": "stderr",
     "output_type": "stream",
     "text": [
      "/Users/reginaongowarsito/anaconda3/lib/python3.6/site-packages/skimage/io/_plugins/matplotlib_plugin.py:51: FutureWarning: Conversion of the second argument of issubdtype from `float` to `np.floating` is deprecated. In future, it will be treated as `np.float64 == np.dtype(float).type`.\n",
      "  out_of_range_float = (np.issubdtype(image.dtype, np.float) and\n",
      "/Users/reginaongowarsito/anaconda3/lib/python3.6/site-packages/matplotlib/axes/_base.py:1428: MatplotlibDeprecationWarning: The 'box-forced' keyword argument is deprecated since 2.2.\n",
      "  \" since 2.2.\", cbook.mplDeprecation)\n"
     ]
    },
    {
     "data": {
      "image/png": "[encoded data removed]",
      "text/plain": [
       "<Figure size 432x288 with 1 Axes>"
      ]
     },
     "metadata": {},
     "output_type": "display_data"
    },
    {
     "data": {
      "image/png": "[encoded data removed]",
      "text/plain": [
       "<Figure size 432x288 with 1 Axes>"
      ]
     },
     "metadata": {},
     "output_type": "display_data"
    },
    {
     "data": {
      "image/png": "[encoded data removed]",
      "text/plain": [
       "<Figure size 432x288 with 1 Axes>"
      ]
     },
     "metadata": {},
     "output_type": "display_data"
    },
    {
     "data": {
      "text/plain": [
       "array([[[0.43137255, 0.43137255, 0.43137255],\n",
       "        [0.43529412, 0.43529412, 0.43529412],\n",
       "        [0.43529412, 0.43529412, 0.43529412],\n",
       "        ...,\n",
       "        [0.        , 0.        , 0.        ],\n",
       "        [0.        , 0.        , 0.        ],\n",
       "        [0.        , 0.        , 0.        ]],\n",
       "\n",
       "       [[0.43137255, 0.43137255, 0.43137255],\n",
       "        [0.43137255, 0.43137255, 0.43137255],\n",
       "        [0.43137255, 0.43137255, 0.43137255],\n",
       "        ...,\n",
       "        [0.        , 0.        , 0.        ],\n",
       "        [0.        , 0.        , 0.        ],\n",
       "        [0.        , 0.        , 0.        ]],\n",
       "\n",
       "       [[0.43529412, 0.43529412, 0.43529412],\n",
       "        [0.43137255, 0.43137255, 0.43137255],\n",
       "        [0.43529412, 0.43529412, 0.43529412],\n",
       "        ...,\n",
       "        [0.        , 0.        , 0.        ],\n",
       "        [0.        , 0.        , 0.        ],\n",
       "        [0.        , 0.        , 0.        ]],\n",
       "\n",
       "       ...,\n",
       "\n",
       "       [[0.        , 0.        , 0.        ],\n",
       "        [0.        , 0.        , 0.        ],\n",
       "        [0.        , 0.        , 0.        ],\n",
       "        ...,\n",
       "        [0.        , 0.        , 0.        ],\n",
       "        [0.        , 0.        , 0.        ],\n",
       "        [0.        , 0.        , 0.        ]],\n",
       "\n",
       "       [[0.        , 0.        , 0.        ],\n",
       "        [0.        , 0.        , 0.        ],\n",
       "        [0.        , 0.        , 0.        ],\n",
       "        ...,\n",
       "        [0.        , 0.        , 0.        ],\n",
       "        [0.        , 0.        , 0.        ],\n",
       "        [0.        , 0.        , 0.        ]],\n",
       "\n",
       "       [[0.        , 0.        , 0.        ],\n",
       "        [0.        , 0.        , 0.        ],\n",
       "        [0.        , 0.        , 0.        ],\n",
       "        ...,\n",
       "        [0.        , 0.        , 0.        ],\n",
       "        [0.        , 0.        , 0.        ],\n",
       "        [0.        , 0.        , 0.        ]]])"
      ]
     },
     "execution_count": 312,
     "metadata": {},
     "output_type": "execute_result"
    }
   ],
   "source": [
    "\n",
    "# def shiftObjectNMask(imSrc, srcMask, imTarg):\n",
    "# imTarg = np.zeros([5,5])\n",
    "# imSrc = np.dot(3, np.ones([2,2]))\n",
    "# srcMask = np.ones([2,2])\n",
    "tt_targetYX = (0, 0)\n",
    "\n",
    "###\n",
    "\n",
    "def shiftObjectNMask(targetYX, imSrc, srcMask, imTarg):\n",
    "\n",
    "    if imTarg.ndim == 3:\n",
    "        targHeight, targWid, _ = imTarg.shape\n",
    "    elif imTarg.ndim == 2:\n",
    "        targHeight, targWid = imTarg.shape\n",
    "\n",
    "    if imSrc.ndim == 3:\n",
    "        srcHeight, srcWid, _ = imSrc.shape\n",
    "    elif imSrc.ndim == 2:\n",
    "        srcHeight, srcWid = imSrc.shape\n",
    "\n",
    "    assert (srcHeight, srcWid) == srcMask.shape\n",
    "    assert targWid and targHeight and srcWid and srcHeight\n",
    "\n",
    "    rowStart = targetYX[0]\n",
    "    rowEnd = targetYX[0]+srcHeight\n",
    "    colStart = targetYX[1]\n",
    "    colEnd = targetYX[1]+srcWid\n",
    "\n",
    "    if rowStart < 0 or rowEnd > targHeight or colStart < 0 or colEnd > targWid:\n",
    "        raise Exception(\"source img doesn't fit target img in the given location\")\n",
    "        \n",
    "    print(targHeight, targWid)\n",
    "\n",
    "    if imSrc.ndim == 3:\n",
    "        newImSrc = np.zeros((targHeight, targWid, 3))\n",
    "        newImSrc[rowStart:rowEnd, colStart:colEnd, 0] = imSrc[:, :, 0]\n",
    "        newImSrc[rowStart:rowEnd, colStart:colEnd, 1] = imSrc[:, :, 1]\n",
    "        newImSrc[rowStart:rowEnd, colStart:colEnd, 2] = imSrc[:, :, 2]\n",
    "    elif imSrc.ndim == 2:\n",
    "        newImSrc = np.zeros((targHeight, targWid))\n",
    "        newImSrc[rowStart:rowEnd, colStart:colEnd] = imSrc\n",
    "    \n",
    "    newSrcMask = np.zeros((targHeight, targWid))\n",
    "    newSrcMask[rowStart:rowEnd, colStart:colEnd] = srcMask\n",
    "    \n",
    "    return newImSrc, newSrcMask\n",
    "\n",
    "    ####\n",
    "\n",
    "imTarg, imSrc\n",
    "\n",
    "newww, newwm = shiftObjectNMask(tt_targetYX, imToyCol, imToyMask, imPengChick)\n",
    "print(imPengChick.shape)\n",
    "\n",
    "viewImage(newww)\n",
    "viewImage(newwm)\n",
    "viewImage(imPengChick)\n",
    "\n",
    "newww\n",
    "\n"
   ]
  },
  {
   "cell_type": "code",
   "execution_count": 271,
   "metadata": {},
   "outputs": [
    {
     "data": {
      "text/plain": [
       "True"
      ]
     },
     "execution_count": 271,
     "metadata": {},
     "output_type": "execute_result"
    }
   ],
   "source": [
    "np.array([1]).shape == np.array([1]).shape "
   ]
  },
  {
   "cell_type": "code",
   "execution_count": null,
   "metadata": {
    "collapsed": true
   },
   "outputs": [],
   "source": []
  },
  {
   "cell_type": "code",
   "execution_count": null,
   "metadata": {
    "collapsed": true
   },
   "outputs": [],
   "source": []
  },
  {
   "cell_type": "code",
   "execution_count": null,
   "metadata": {
    "collapsed": true
   },
   "outputs": [],
   "source": []
  },
  {
   "cell_type": "code",
   "execution_count": null,
   "metadata": {
    "collapsed": true
   },
   "outputs": [],
   "source": []
  },
  {
   "cell_type": "code",
   "execution_count": null,
   "metadata": {
    "collapsed": true
   },
   "outputs": [],
   "source": []
  },
  {
   "cell_type": "code",
   "execution_count": null,
   "metadata": {
    "collapsed": true
   },
   "outputs": [],
   "source": []
  },
  {
   "cell_type": "code",
   "execution_count": null,
   "metadata": {
    "collapsed": true
   },
   "outputs": [],
   "source": []
  },
  {
   "cell_type": "code",
   "execution_count": null,
   "metadata": {
    "collapsed": true
   },
   "outputs": [],
   "source": []
  },
  {
   "cell_type": "code",
   "execution_count": null,
   "metadata": {
    "collapsed": true
   },
   "outputs": [],
   "source": [
    "\"\"\"\n",
    "neg1_changeListY = []\n",
    "neg1_changeListX = []\n",
    "\n",
    "pos1_changeListY = []\n",
    "pos1_changeListX = []\n",
    "\n",
    "### X-DIR GRADIENTS\n",
    "per y row:\n",
    "    if size of region in this row is 1 or less:\n",
    "        continue\n",
    "    increase newLineCt\n",
    "    for every pixel i in the row except last one:\n",
    "        neg1_changeListY.append(newLineCt)\n",
    "        neg1_changeListX.append(im2Var(y, i))\n",
    "        \n",
    "        pos1_changeListY.append(newLineCt)\n",
    "        pos1_changeListX.append(im2Var(y, i+1))\n",
    "        # first index = most left in region\n",
    "        # last index = most right in region\n",
    "per x cols:\n",
    "    if size of region in this column is 1 or less:\n",
    "        continue\n",
    "    increase newLineCt\n",
    "    for pix j in this col except last one:\n",
    "        neg1_changeListY.append(newlineCt)\n",
    "        neg1_changeListX.append(im2Var(j, x))\n",
    "        \n",
    "        pos1_changeListY.append(newlineCt)\n",
    "        pos1_changeListX.append(im2Var(j+1, x))\n",
    "\n",
    "\"\"\""
   ]
  },
  {
   "cell_type": "code",
   "execution_count": 4,
   "metadata": {
    "collapsed": true,
    "scrolled": true
   },
   "outputs": [],
   "source": [
    "# impath1 = 'sample_imgs/spline/apple.jpeg'\n",
    "# im1 = skio.imread(impath1)\n",
    "# im1 = sk.img_as_float(im1)\n",
    "\n",
    "# impath2 = 'sample_imgs/spline/orange.jpeg'\n",
    "# im2 = skio.imread(impath2)\n",
    "# im2 = sk.img_as_float(im2)\n",
    "\n",
    "# impathM = 'sample_imgs/spline/mask2.jpg'\n",
    "# imM = skio.imread(impathM)\n",
    "# imM = sk.img_as_float(imM)"
   ]
  },
  {
   "cell_type": "code",
   "execution_count": null,
   "metadata": {
    "collapsed": true
   },
   "outputs": [],
   "source": [
    "def scaler(LM): # scales to 0 1\n",
    "    return np.dot(LM - LM.min(), 1 / (LM.max() - LM.min()))# * 2 - 1\n",
    "\n",
    "def multiResBlendOp(im1, im2, mask, levels, sigma):\n",
    "    assert im1.shape == im2.shape == mask.shape\n",
    "\n",
    "    L1 = laplacianPyrOp_3D(im1, levels, sigma)\n",
    "    L2 = laplacianPyrOp_3D(im2, levels, sigma)\n",
    "    LM = gaussStackOp_3D(mask, levels, sigma) # laplacianPyrOp_3D(mask, levels, sigma)\n",
    "    \n",
    "    # LM_blur = gaussStackOp_3D(mask, levels, sigma)\n",
    "    \n",
    "    for i in range(len(L1)):\n",
    "        viewImage(LM[i])\n",
    "    \n",
    "#     LM1 = np.dot(LM - LM.min(), 1 / (LM.max() - LM.min())) ## scale LM to [0, 1]\n",
    "#     LM1 = LM1\n",
    "\n",
    "#     print(LM.min(), LM.max())\n",
    "    LM1 = LM\n",
    "    LM2 = (1 - LM1)\n",
    "    \n",
    "#     print(\"HELP: \", LM1[0, 0, 0, 0], LM2[0, 0, 0, 0])\n",
    "#     print(L1.min(), L1.max())\n",
    "#     print(L2.min(), L2.max())\n",
    "#     return\n",
    "    \n",
    "    L1_post = LM1 * L1 \n",
    "    for i in range(len(L1)):\n",
    "        viewImage(scaler(L1_post[i]))\n",
    "    L2_post = LM2 * L2\n",
    "    \n",
    "    finalL =  L1_post + L2_post\n",
    "\n",
    "    # levelsDim, heightDim, widthDim, channelDim = L1.shape\n",
    "    \n",
    "    tes = np.zeros(L1[0].shape)\n",
    "    \n",
    "    for i in range(len(L1)):\n",
    "        viewImage(scaler(finalL[i]))\n",
    "        tes += finalL[i]\n",
    "    \n",
    "    viewImage(tes)\n",
    "    \n",
    "#     for i in range(len(L1)):\n",
    "#         viewImage(L1[i])\n",
    "\n",
    "    \n",
    "    # print(LM)\n",
    "    \n",
    "\n",
    "multiResBlendOp(im1, im2, imM, 10, 10)"
   ]
  },
  {
   "cell_type": "code",
   "execution_count": 70,
   "metadata": {},
   "outputs": [
    {
     "data": {
      "text/plain": [
       "array([[3, 1],\n",
       "       [3, 1]])"
      ]
     },
     "execution_count": 70,
     "metadata": {},
     "output_type": "execute_result"
    }
   ],
   "source": [
    "a = np.array([\n",
    "    [\n",
    "        [3, 3, 3], [1, 1, 1]\n",
    "    ], # 1st row\n",
    "    [\n",
    "        [3, 3, 3], [1, 1, 1]\n",
    "    ], # 2nd row\n",
    "])\n",
    "b = np.array([\n",
    "    [\n",
    "        [1, 2, 1]\n",
    "    ],\n",
    "    [\n",
    "        [1, 1, 1]\n",
    "    ]\n",
    "])\n",
    "\n",
    "#to convert 3-channel to just one of the channels, primarily the 0th one\n",
    "np.squeeze(np.dsplit(a, [1])[0], axis=2)"
   ]
  },
  {
   "cell_type": "code",
   "execution_count": null,
   "metadata": {
    "collapsed": true
   },
   "outputs": [],
   "source": []
  },
  {
   "cell_type": "code",
   "execution_count": 428,
   "metadata": {},
   "outputs": [
    {
     "data": {
      "text/plain": [
       "array([[0., 0., 0., 0.],\n",
       "       [0., 1., 0., 0.],\n",
       "       [0., 0., 0., 0.],\n",
       "       [0., 0., 0., 0.]])"
      ]
     },
     "execution_count": 428,
     "metadata": {},
     "output_type": "execute_result"
    }
   ],
   "source": [
    "cccc = np.zeros((4, 4))\n",
    "cccc[(1, 1)] = 1\n",
    "cccc"
   ]
  },
  {
   "cell_type": "code",
   "execution_count": null,
   "metadata": {
    "collapsed": true
   },
   "outputs": [],
   "source": [
    "# im = im1\n",
    "# im2 = gaussBlurOp_3D(im, sigma=20)\n",
    "# viewImage(im)\n",
    "# viewImage(im2)\n",
    "# res = im - im2\n",
    "# print(res.min(), res.max())\n",
    "# result = (res - res.min())/(res.max()-res.min())\n",
    "# #viewImage(np.dot(res, 255))\n",
    "# viewImage(result)"
   ]
  }
 ],
 "metadata": {
  "kernelspec": {
   "display_name": "Python 3",
   "language": "python",
   "name": "python3"
  },
  "language_info": {
   "codemirror_mode": {
    "name": "ipython",
    "version": 3
   },
   "file_extension": ".py",
   "mimetype": "text/x-python",
   "name": "python",
   "nbconvert_exporter": "python",
   "pygments_lexer": "ipython3",
   "version": "3.6.6"
  }
 },
 "nbformat": 4,
 "nbformat_minor": 2
}

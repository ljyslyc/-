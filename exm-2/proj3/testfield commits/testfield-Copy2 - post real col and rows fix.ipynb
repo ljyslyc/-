{
 "cells": [
  {
   "cell_type": "code",
   "execution_count": 134,
   "metadata": {
    "collapsed": true
   },
   "outputs": [],
   "source": [
    "import numpy as np\n",
    "from scipy import signal, sparse\n",
    "import skimage as sk\n",
    "import skimage.filters as sf\n",
    "import skimage.io as skio\n",
    "from skimage.io import imsave, imshow, show\n",
    "\n",
    "from operations import *"
   ]
  },
  {
   "cell_type": "code",
   "execution_count": 19,
   "metadata": {
    "collapsed": true
   },
   "outputs": [],
   "source": [
    "impathT = 'sample_imgs/samples/toy_problem.png'\n",
    "imT = skio.imread(impathT)\n",
    "imT = sk.img_as_float(imT)\n",
    "\n",
    "impathM = 'sample_imgs/spline/mask2.jpg'\n",
    "imM = skio.imread(impathM)\n",
    "imM = sk.img_as_float(imM)"
   ]
  },
  {
   "cell_type": "code",
   "execution_count": 21,
   "metadata": {},
   "outputs": [
    {
     "data": {
      "text/plain": [
       "(array([0]), array([1]))"
      ]
     },
     "execution_count": 21,
     "metadata": {},
     "output_type": "execute_result"
    }
   ],
   "source": [
    "b = np.array([[0, 3, 0]])\n",
    "b.nonzero()\n",
    "\n",
    "# imM.nonzero()"
   ]
  },
  {
   "cell_type": "code",
   "execution_count": 165,
   "metadata": {
    "collapsed": true
   },
   "outputs": [],
   "source": [
    "mask = np.ones(imT.shape)\n",
    "\n",
    "def createNonZeroPairs(mask):\n",
    "    #TODO extend\n",
    "    if mask.ndim == 3:\n",
    "        mask = np.squeeze(np.dsplit(mask, [1])[0], axis=2)\n",
    "        # change 3 channel to 1 value per pixel,\n",
    "        # specifically using the 0th channel's\n",
    "    maskNonZero = mask.nonzero()\n",
    "    \n",
    "#    return maskNonZero\n",
    "    \n",
    "    nonZeroIndices = []\n",
    "#    mask\n",
    "    for i in range(len(maskNonZero[0])):\n",
    "        nonZeroIndices.append((maskNonZero[0][i], maskNonZero[1][i]))\n",
    "    \n",
    "    return nonZeroIndices\n",
    "\n",
    "#####\n",
    "# mask.nonzero() ## assume it's 1D\n",
    "\n",
    "def makeIm2Var(mask):\n",
    "    nonZeroIndices = createNonZeroPairs(mask)\n",
    "\n",
    "    dictIm2Var = dict()\n",
    "    dictVar2Im = dict()\n",
    "    \n",
    "    dictRow2Cols = dict()\n",
    "    dictCol2Rows = dict()\n",
    "\n",
    "    fTup2Key = (lambda tup: \"%i-%i\" % tup)\n",
    "    fYX2Key = (lambda y, x: fTup2Key((y, x)))\n",
    "\n",
    "    for i in range(len(nonZeroIndices)):\n",
    "        pair = nonZeroIndices[i]\n",
    "        row, col = pair\n",
    "        \n",
    "        if row not in dictRow2Cols:\n",
    "            dictRow2Cols[row] = []\n",
    "        dictRow2Cols[row].append(col)\n",
    "        \n",
    "        if col not in dictCol2Rows:\n",
    "            dictCol2Rows[col] = []\n",
    "        dictCol2Rows[col].append(row)\n",
    "        \n",
    "        key = fTup2Key(pair)\n",
    "        dictIm2Var[key] = i\n",
    "        dictVar2Im[i] = pair\n",
    "\n",
    "    im2Var = (lambda y, x: dictIm2Var[fYX2Key(y, x)])\n",
    "    var2Im = (lambda x: dictVar2Im[x])\n",
    "    \n",
    "    # print(dictIm2Var)\n",
    "    \n",
    "    totalUnknowns = len(nonZeroIndices)\n",
    "    \n",
    "    return im2Var, var2Im, totalUnknowns, dictRow2Cols, dictCol2Rows\n",
    "\n",
    "im2Var, var2Im, totalUnknowns, dictRow2Cols, dictCol2Rows = makeIm2Var(mask)\n",
    "\n",
    "# im2Var(3, 2)"
   ]
  },
  {
   "cell_type": "code",
   "execution_count": 213,
   "metadata": {
    "collapsed": true
   },
   "outputs": [],
   "source": [
    "\n",
    "# totalUnknowns = rHeight * rWidth #change\n",
    "\n",
    "\"\"\"\n",
    "neg1_changeListY = []\n",
    "neg1_changeListX = []\n",
    "\n",
    "pos1_changeListY = []\n",
    "pos1_changeListX = []\n",
    "\n",
    "### X-DIR GRADIENTS\n",
    "per y row:\n",
    "    if size of region in this row is 1 or less:\n",
    "        continue\n",
    "    increase newLineCt\n",
    "    for every pixel i in the row except last one:\n",
    "        neg1_changeListY.append(newLineCt)\n",
    "        neg1_changeListX.append(im2Var(y, i))\n",
    "        \n",
    "        pos1_changeListY.append(newLineCt)\n",
    "        pos1_changeListX.append(im2Var(y, i+1))\n",
    "        # first index = most left in region\n",
    "        # last index = most right in region\n",
    "per x cols:\n",
    "    if size of region in this column is 1 or less:\n",
    "        continue\n",
    "    increase newLineCt\n",
    "    for pix j in this col except last one:\n",
    "        neg1_changeListY.append(newlineCt)\n",
    "        neg1_changeListX.append(im2Var(j, x))\n",
    "        \n",
    "        pos1_changeListY.append(newlineCt)\n",
    "        pos1_changeListX.append(im2Var(j+1, x))\n",
    "\n",
    "\"\"\"\n",
    "\n",
    "rHeight, rWidth = len(dictRow2Cols), len(dictCol2Rows)\n",
    "\n",
    "neg1_changeListY = []\n",
    "neg1_changeListX = []\n",
    "pos1_changeListY = []\n",
    "pos1_changeListX = []\n",
    "\n",
    "# def neg1(y, x):\n",
    "\n",
    "bList = []\n",
    "\n",
    "newLineCt = -1\n",
    "for y in range(rHeight):\n",
    "    cols = dictRow2Cols[y]\n",
    "    if len(cols) <= 1:\n",
    "        continue\n",
    "    \n",
    "    for i in range(len(cols) - 1):\n",
    "        col = cols[i]\n",
    "        newLineCt += 1\n",
    "        neg1_changeListY.append(newLineCt)\n",
    "        neg1_changeListX.append(im2Var(y, col))\n",
    "\n",
    "        pos1_changeListY.append(newLineCt)\n",
    "        pos1_changeListX.append(im2Var(y, col+1))\n",
    "        \n",
    "        bList.append(imT[y, col+1] - imT[y, col])\n",
    "\n",
    "for x in range(rWidth):\n",
    "    rows = dictCol2Rows[x]\n",
    "    if len(rows) <= 1:\n",
    "        continue\n",
    "        \n",
    "    for j in range(len(rows) - 1):\n",
    "        row = rows[j]\n",
    "        newLineCt += 1\n",
    "        neg1_changeListY.append(newLineCt)\n",
    "        neg1_changeListX.append(im2Var(row, x))\n",
    "        \n",
    "        pos1_changeListY.append(newLineCt)\n",
    "        pos1_changeListX.append(im2Var(row+1, x))\n",
    "        \n",
    "        bList.append(imT[row+1, x] - imT[row, x])\n",
    "        \n",
    "# print(neg1_changeListY)\n",
    "# print(neg1_changeListX)\n",
    "# print(pos1_changeListY)\n",
    "# print(pos1_changeListX)\n",
    "\n",
    "newLineCt += 1\n",
    "pos1_changeListY.append(newLineCt)\n",
    "pos1_changeListX.append(im2Var(0, 0))\n",
    "bList.append(imT[0, 0])\n",
    "\n",
    "newA = np.zeros((newLineCt + 1, totalUnknowns))\n",
    "\n",
    "newA[neg1_changeListY,neg1_changeListX] = -1\n",
    "newA[pos1_changeListY,pos1_changeListX] = 1\n",
    "\n",
    "# newA\n",
    "b = np.array(bList)"
   ]
  },
  {
   "cell_type": "code",
   "execution_count": 214,
   "metadata": {
    "collapsed": true
   },
   "outputs": [],
   "source": [
    "resolve = sparse.linalg.lsqr(newA, b)"
   ]
  },
  {
   "cell_type": "code",
   "execution_count": 215,
   "metadata": {},
   "outputs": [
    {
     "name": "stderr",
     "output_type": "stream",
     "text": [
      "/Users/reginaongowarsito/anaconda3/lib/python3.6/site-packages/skimage/util/dtype.py:122: UserWarning: Possible precision loss when converting from float64 to uint16\n",
      "  .format(dtypeobj_in, dtypeobj_out))\n",
      "/Users/reginaongowarsito/anaconda3/lib/python3.6/site-packages/skimage/io/_plugins/matplotlib_plugin.py:51: FutureWarning: Conversion of the second argument of issubdtype from `float` to `np.floating` is deprecated. In future, it will be treated as `np.float64 == np.dtype(float).type`.\n",
      "  out_of_range_float = (np.issubdtype(image.dtype, np.float) and\n",
      "/Users/reginaongowarsito/anaconda3/lib/python3.6/site-packages/matplotlib/axes/_base.py:1428: MatplotlibDeprecationWarning: The 'box-forced' keyword argument is deprecated since 2.2.\n",
      "  \" since 2.2.\", cbook.mplDeprecation)\n"
     ]
    },
    {
     "data": {
      "image/png": "[encoded data removed]",
      "text/plain": [
       "<Figure size 432x288 with 2 Axes>"
      ]
     },
     "metadata": {},
     "output_type": "display_data"
    }
   ],
   "source": [
    "# reconstruct from solution 2 im\n",
    "\n",
    "finalIm = np.zeros((rHeight, rWidth))\n",
    "\n",
    "solution = resolve[0]\n",
    "\n",
    "# for x in enumerate(solution):\n",
    "#     print(x)\n",
    "\n",
    "for varId, sol in enumerate(solution):\n",
    "    # print(var2Im(varId))\n",
    "    \n",
    "    y, x = var2Im(varId)\n",
    "    \n",
    "    finalIm[y, x] = sol\n",
    "\n",
    "testImage(\"hooo3.png\", finalIm)"
   ]
  },
  {
   "cell_type": "code",
   "execution_count": 209,
   "metadata": {},
   "outputs": [
    {
     "data": {
      "text/plain": [
       "[0,\n",
       " 1,\n",
       " 2,\n",
       " 3,\n",
       " 4,\n",
       " 5,\n",
       " 6,\n",
       " 7,\n",
       " 8,\n",
       " 9,\n",
       " 10,\n",
       " 11,\n",
       " 12,\n",
       " 13,\n",
       " 14,\n",
       " 15,\n",
       " 16,\n",
       " 17,\n",
       " 18,\n",
       " 19,\n",
       " 20,\n",
       " 21,\n",
       " 22,\n",
       " 23,\n",
       " 24,\n",
       " 25,\n",
       " 26,\n",
       " 27,\n",
       " 28,\n",
       " 29,\n",
       " 30,\n",
       " 31,\n",
       " 32,\n",
       " 33,\n",
       " 34,\n",
       " 35,\n",
       " 36,\n",
       " 37,\n",
       " 38,\n",
       " 39,\n",
       " 40,\n",
       " 41,\n",
       " 42,\n",
       " 43,\n",
       " 44,\n",
       " 45,\n",
       " 46,\n",
       " 47,\n",
       " 48,\n",
       " 49,\n",
       " 50,\n",
       " 51,\n",
       " 52,\n",
       " 53,\n",
       " 54,\n",
       " 55,\n",
       " 56,\n",
       " 57,\n",
       " 58,\n",
       " 59,\n",
       " 60,\n",
       " 61,\n",
       " 62,\n",
       " 63,\n",
       " 64,\n",
       " 65,\n",
       " 66,\n",
       " 67,\n",
       " 68,\n",
       " 69,\n",
       " 70,\n",
       " 71,\n",
       " 72,\n",
       " 73,\n",
       " 74,\n",
       " 75,\n",
       " 76,\n",
       " 77,\n",
       " 78,\n",
       " 79,\n",
       " 80,\n",
       " 81,\n",
       " 82,\n",
       " 83,\n",
       " 84,\n",
       " 85,\n",
       " 86,\n",
       " 87,\n",
       " 88,\n",
       " 89,\n",
       " 90,\n",
       " 91,\n",
       " 92,\n",
       " 93,\n",
       " 94,\n",
       " 95,\n",
       " 96,\n",
       " 97,\n",
       " 98,\n",
       " 99,\n",
       " 100,\n",
       " 101,\n",
       " 102,\n",
       " 103,\n",
       " 104,\n",
       " 105,\n",
       " 106,\n",
       " 107,\n",
       " 108,\n",
       " 109]"
      ]
     },
     "execution_count": 209,
     "metadata": {},
     "output_type": "execute_result"
    }
   ],
   "source": [
    "dictCol2Rows[1]"
   ]
  },
  {
   "cell_type": "code",
   "execution_count": null,
   "metadata": {
    "collapsed": true
   },
   "outputs": [],
   "source": []
  },
  {
   "cell_type": "code",
   "execution_count": null,
   "metadata": {
    "collapsed": true
   },
   "outputs": [],
   "source": []
  },
  {
   "cell_type": "code",
   "execution_count": null,
   "metadata": {
    "collapsed": true
   },
   "outputs": [],
   "source": [
    "# for y in range(rHeight):\n",
    "#     for x in range(rWidth - 1):\n",
    "#         newStackRow = np.zeros((1, totalUnknowns))\n",
    "#         newStackRow[0, im2Var(y, x)] = -1\n",
    "#         newStackRow[0, im2Var(y, x+1)] = 1\n",
    "#         A = np.hstack((A, newStackRow))\n",
    "# for x in range(rWidth):\n",
    "#     for y in range(rHeight - 1):\n",
    "#         newStackRow = np.zeros((1, totalUnknowns))\n",
    "#         newStackRow[im2Var(y, x)] = -1\n",
    "#         newStackRow[im2Var(y+1, x)] = 1"
   ]
  },
  {
   "cell_type": "code",
   "execution_count": null,
   "metadata": {
    "collapsed": true
   },
   "outputs": [],
   "source": []
  },
  {
   "cell_type": "code",
   "execution_count": null,
   "metadata": {
    "collapsed": true
   },
   "outputs": [],
   "source": []
  },
  {
   "cell_type": "code",
   "execution_count": 208,
   "metadata": {},
   "outputs": [
    {
     "name": "stdout",
     "output_type": "stream",
     "text": [
      "[1, 2, 2, 1, 1, 1, 2]\n"
     ]
    },
    {
     "data": {
      "text/plain": [
       "({2, 4}, {0, 2, 7}, {0, 2, 4, 7})"
      ]
     },
     "execution_count": 208,
     "metadata": {},
     "output_type": "execute_result"
    }
   ],
   "source": [
    "def findBorders(row, maxIndex,):\n",
    "#     if mode == \"rtl\":\n",
    "#         RTL = True\n",
    "#         LTR = False\n",
    "#     elif mode == \"ltr\":\n",
    "#         RTL = False\n",
    "#         LTR = True\n",
    "#     elif mode == \"both\":\n",
    "#         RTL = True\n",
    "#         LTR = True\n",
    "    \"\"\"\n",
    "    input = [1, 2, 5, 6]\n",
    "    output = [2, 5]\n",
    "    # q: do we care about image boundary boundaries\n",
    "    # a: no, it'll eff up the algo -- if you need image boundary stuff\n",
    "    # add it separately on the algo\n",
    "    \"\"\"\n",
    "    assert row[-1] <= maxIndex\n",
    "\n",
    "    ltrBorders = set()\n",
    "    rtlBorders = set()\n",
    "    \n",
    "    if len(row) == 0:\n",
    "        return borders\n",
    "    \n",
    "    minIndex = 0\n",
    "        \n",
    "    diff = [row[0] - (minIndex - 1)]\n",
    "    for i in range(1, len(row)):\n",
    "        diff.append(row[i] - row[i-1])\n",
    "    diff.append(maxIndex + 1 - row[-1])\n",
    "    print(diff)\n",
    "    \n",
    "    for ind, val in enumerate(diff):\n",
    "        if val > 1:\n",
    "            # if RTL:\n",
    "            if ind - 1 >= 0: # comment this out to get left to right edge\n",
    "                rtlBorders.add(row[ind - 1])\n",
    "            #if LTR:\n",
    "            if ind < len(row): # comment this out to get right to left edge\n",
    "                ltrBorders.add(row[ind])\n",
    "    \n",
    "    return ltrBorders, rtlBorders, ltrBorders.union(rtlBorders)\n",
    "\n",
    "findBorders([0, 2, 4, 5, 6, 7], 8)"
   ]
  },
  {
   "cell_type": "code",
   "execution_count": 167,
   "metadata": {
    "collapsed": true
   },
   "outputs": [],
   "source": [
    "def findBordersXXX(row, maxIndex):\n",
    "    \"\"\"\n",
    "    input = [1, 2, 5, 6]\n",
    "    output = [2, 5]\n",
    "    # q: do we care about image boundary boundaries\n",
    "    # a: no, it'll eff up the algo -- if you need image boundary stuff\n",
    "    # add it separately on the algo\n",
    "    \"\"\"\n",
    "    minIndex = 0\n",
    "    \n",
    "    \"\"\"\n",
    "    \n",
    "    bounds = set()\n",
    "    \n",
    "    if firstElem not on image border:\n",
    "        add to Boundary\n",
    "    counter = first elem\n",
    "    \n",
    "    for every elem in input after the first:\n",
    "            \n",
    "        counter += 1\n",
    "        \n",
    "        if elem != counter: #meaning last one and this one is not contig\n",
    "            add counter - 1 to Boundary\n",
    "            add elem to Boundary\n",
    "            counter = elem\n",
    "            continue\n",
    "    \n",
    "    if counter != maxIndex:\n",
    "        add counter to Boundary\n",
    "\n",
    "    return boundary\n",
    "        \n",
    "\n",
    "    \"\"\""
   ]
  },
  {
   "cell_type": "code",
   "execution_count": null,
   "metadata": {
    "collapsed": true
   },
   "outputs": [],
   "source": []
  },
  {
   "cell_type": "code",
   "execution_count": null,
   "metadata": {
    "collapsed": true
   },
   "outputs": [],
   "source": []
  },
  {
   "cell_type": "code",
   "execution_count": null,
   "metadata": {
    "collapsed": true
   },
   "outputs": [],
   "source": []
  },
  {
   "cell_type": "code",
   "execution_count": null,
   "metadata": {
    "collapsed": true
   },
   "outputs": [],
   "source": []
  },
  {
   "cell_type": "code",
   "execution_count": null,
   "metadata": {
    "collapsed": true
   },
   "outputs": [],
   "source": []
  },
  {
   "cell_type": "code",
   "execution_count": null,
   "metadata": {
    "collapsed": true
   },
   "outputs": [],
   "source": []
  },
  {
   "cell_type": "code",
   "execution_count": null,
   "metadata": {
    "collapsed": true
   },
   "outputs": [],
   "source": []
  },
  {
   "cell_type": "code",
   "execution_count": 4,
   "metadata": {
    "collapsed": true,
    "scrolled": true
   },
   "outputs": [],
   "source": [
    "# impath1 = 'sample_imgs/spline/apple.jpeg'\n",
    "# im1 = skio.imread(impath1)\n",
    "# im1 = sk.img_as_float(im1)\n",
    "\n",
    "# impath2 = 'sample_imgs/spline/orange.jpeg'\n",
    "# im2 = skio.imread(impath2)\n",
    "# im2 = sk.img_as_float(im2)\n",
    "\n",
    "# impathM = 'sample_imgs/spline/mask2.jpg'\n",
    "# imM = skio.imread(impathM)\n",
    "# imM = sk.img_as_float(imM)"
   ]
  },
  {
   "cell_type": "code",
   "execution_count": null,
   "metadata": {
    "collapsed": true
   },
   "outputs": [],
   "source": [
    "def scaler(LM): # scales to 0 1\n",
    "    return np.dot(LM - LM.min(), 1 / (LM.max() - LM.min()))# * 2 - 1\n",
    "\n",
    "def multiResBlendOp(im1, im2, mask, levels, sigma):\n",
    "    assert im1.shape == im2.shape == mask.shape\n",
    "\n",
    "    L1 = laplacianPyrOp_3D(im1, levels, sigma)\n",
    "    L2 = laplacianPyrOp_3D(im2, levels, sigma)\n",
    "    LM = gaussStackOp_3D(mask, levels, sigma) # laplacianPyrOp_3D(mask, levels, sigma)\n",
    "    \n",
    "    # LM_blur = gaussStackOp_3D(mask, levels, sigma)\n",
    "    \n",
    "    for i in range(len(L1)):\n",
    "        viewImage(LM[i])\n",
    "    \n",
    "#     LM1 = np.dot(LM - LM.min(), 1 / (LM.max() - LM.min())) ## scale LM to [0, 1]\n",
    "#     LM1 = LM1\n",
    "\n",
    "#     print(LM.min(), LM.max())\n",
    "    LM1 = LM\n",
    "    LM2 = (1 - LM1)\n",
    "    \n",
    "#     print(\"HELP: \", LM1[0, 0, 0, 0], LM2[0, 0, 0, 0])\n",
    "#     print(L1.min(), L1.max())\n",
    "#     print(L2.min(), L2.max())\n",
    "#     return\n",
    "    \n",
    "    L1_post = LM1 * L1 \n",
    "    for i in range(len(L1)):\n",
    "        viewImage(scaler(L1_post[i]))\n",
    "    L2_post = LM2 * L2\n",
    "    \n",
    "    finalL =  L1_post + L2_post\n",
    "\n",
    "    # levelsDim, heightDim, widthDim, channelDim = L1.shape\n",
    "    \n",
    "    tes = np.zeros(L1[0].shape)\n",
    "    \n",
    "    for i in range(len(L1)):\n",
    "        viewImage(scaler(finalL[i]))\n",
    "        tes += finalL[i]\n",
    "    \n",
    "    viewImage(tes)\n",
    "    \n",
    "#     for i in range(len(L1)):\n",
    "#         viewImage(L1[i])\n",
    "\n",
    "    \n",
    "    # print(LM)\n",
    "    \n",
    "\n",
    "multiResBlendOp(im1, im2, imM, 10, 10)"
   ]
  },
  {
   "cell_type": "code",
   "execution_count": 70,
   "metadata": {},
   "outputs": [
    {
     "data": {
      "text/plain": [
       "array([[3, 1],\n",
       "       [3, 1]])"
      ]
     },
     "execution_count": 70,
     "metadata": {},
     "output_type": "execute_result"
    }
   ],
   "source": [
    "a = np.array([\n",
    "    [\n",
    "        [3, 3, 3], [1, 1, 1]\n",
    "    ], # 1st row\n",
    "    [\n",
    "        [3, 3, 3], [1, 1, 1]\n",
    "    ], # 2nd row\n",
    "])\n",
    "b = np.array([\n",
    "    [\n",
    "        [1, 2, 1]\n",
    "    ],\n",
    "    [\n",
    "        [1, 1, 1]\n",
    "    ]\n",
    "])\n",
    "\n",
    "#to convert 3-channel to just one of the channels, primarily the 0th one\n",
    "np.squeeze(np.dsplit(a, [1])[0], axis=2)"
   ]
  },
  {
   "cell_type": "code",
   "execution_count": null,
   "metadata": {
    "collapsed": true
   },
   "outputs": [],
   "source": []
  },
  {
   "cell_type": "code",
   "execution_count": null,
   "metadata": {
    "collapsed": true
   },
   "outputs": [],
   "source": []
  },
  {
   "cell_type": "code",
   "execution_count": null,
   "metadata": {
    "collapsed": true
   },
   "outputs": [],
   "source": [
    "# im = im1\n",
    "# im2 = gaussBlurOp_3D(im, sigma=20)\n",
    "# viewImage(im)\n",
    "# viewImage(im2)\n",
    "# res = im - im2\n",
    "# print(res.min(), res.max())\n",
    "# result = (res - res.min())/(res.max()-res.min())\n",
    "# #viewImage(np.dot(res, 255))\n",
    "# viewImage(result)"
   ]
  }
 ],
 "metadata": {
  "kernelspec": {
   "display_name": "Python 3",
   "language": "python",
   "name": "python3"
  },
  "language_info": {
   "codemirror_mode": {
    "name": "ipython",
    "version": 3
   },
   "file_extension": ".py",
   "mimetype": "text/x-python",
   "name": "python",
   "nbconvert_exporter": "python",
   "pygments_lexer": "ipython3",
   "version": "3.6.6"
  }
 },
 "nbformat": 4,
 "nbformat_minor": 2
}
